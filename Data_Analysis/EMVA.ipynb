{
  "nbformat": 4,
  "nbformat_minor": 0,
  "metadata": {
    "colab": {
      "name": "EMVA.ipynb",
      "provenance": [],
      "authorship_tag": "ABX9TyPeeuy8E2XROSHlqeMiwc0X",
      "include_colab_link": true
    },
    "kernelspec": {
      "name": "python3",
      "display_name": "Python 3"
    },
    "language_info": {
      "name": "python"
    }
  },
  "cells": [
    {
      "cell_type": "markdown",
      "metadata": {
        "id": "view-in-github",
        "colab_type": "text"
      },
      "source": [
        "<a href=\"https://colab.research.google.com/github/AbhishekKaushikCV/HCI/blob/main/EMVA.ipynb\" target=\"_parent\"><img src=\"https://colab.research.google.com/assets/colab-badge.svg\" alt=\"Open In Colab\"/></a>"
      ]
    },
    {
      "cell_type": "markdown",
      "metadata": {
        "id": "j7Hks424Evlh"
      },
      "source": [
        "### Partcipant : 7711"
      ]
    },
    {
      "cell_type": "code",
      "metadata": {
        "colab": {
          "base_uri": "https://localhost:8080/"
        },
        "id": "5u6oBf8k63NN",
        "outputId": "f107d632-fc10-46f1-8e2f-0973bffd2842"
      },
      "source": [
        "from google.colab import drive\n",
        "drive.mount('/content/gdrive')"
      ],
      "execution_count": null,
      "outputs": [
        {
          "output_type": "stream",
          "name": "stdout",
          "text": [
            "Mounted at /content/gdrive\n"
          ]
        }
      ]
    },
    {
      "cell_type": "code",
      "metadata": {
        "id": "GS5yd1h77Xk7"
      },
      "source": [
        "# Importing libraries\n",
        "import pandas as pd\n",
        "import matplotlib.pyplot as plt\n",
        "import json\n",
        "import os"
      ],
      "execution_count": null,
      "outputs": []
    },
    {
      "cell_type": "markdown",
      "metadata": {
        "id": "sDM9epuPw4_s"
      },
      "source": [
        "### Recording 006\n",
        "- application_data.txt\n",
        "- notification_data.txt\n",
        "- device_data.txt"
      ]
    },
    {
      "cell_type": "code",
      "metadata": {
        "id": "cBwO8e-zIbbO"
      },
      "source": [
        "recording_path = '/content/gdrive/MyDrive/fd249093-60d2-4d4f-99d0-3e98954f7711/Recording 006'"
      ],
      "execution_count": null,
      "outputs": []
    },
    {
      "cell_type": "markdown",
      "metadata": {
        "id": "ZquiBsngxMYS"
      },
      "source": [
        "### application_data.txt"
      ]
    },
    {
      "cell_type": "code",
      "metadata": {
        "id": "9gDQoRUR9Npv"
      },
      "source": [
        "with open(os.path.join(recording_path, \"application_data.txt\")) as application_file:\n",
        "        application_data = json.load(application_file)[\"application_data\"]"
      ],
      "execution_count": null,
      "outputs": []
    },
    {
      "cell_type": "code",
      "metadata": {
        "colab": {
          "base_uri": "https://localhost:8080/"
        },
        "id": "1sQHYFz5igYY",
        "outputId": "6d179f54-6c0f-434c-da48-d7bcf2aef35a"
      },
      "source": [
        "type(application_data)"
      ],
      "execution_count": null,
      "outputs": [
        {
          "output_type": "execute_result",
          "data": {
            "text/plain": [
              "list"
            ]
          },
          "metadata": {},
          "execution_count": 52
        }
      ]
    },
    {
      "cell_type": "code",
      "metadata": {
        "colab": {
          "base_uri": "https://localhost:8080/"
        },
        "id": "ksbBYFtdijna",
        "outputId": "b6ce3480-4469-4f01-ca32-3633654ad3f9"
      },
      "source": [
        "application_data"
      ],
      "execution_count": null,
      "outputs": [
        {
          "output_type": "execute_result",
          "data": {
            "text/plain": [
              "[{'name': 'com.huawei.android.launcher',\n",
              "  'time': 485958652217929,\n",
              "  'timeDate': '09.08.2019 09:14:27.862'},\n",
              " {'name': 'com.whatsapp',\n",
              "  'time': 485959161927304,\n",
              "  'timeDate': '09.08.2019 09:14:28.372'},\n",
              " {'name': 'com.huawei.systemmanager',\n",
              "  'time': 485981416601780,\n",
              "  'timeDate': '09.08.2019 09:14:50.627'},\n",
              " {'name': 'com.whatsapp',\n",
              "  'time': 485987589108550,\n",
              "  'timeDate': '09.08.2019 09:14:56.799'},\n",
              " {'name': 'com.huawei.android.launcher',\n",
              "  'time': 486003216502298,\n",
              "  'timeDate': '09.08.2019 09:15:12.427'},\n",
              " {'name': 'com.instagram.android',\n",
              "  'time': 486005321012714,\n",
              "  'timeDate': '09.08.2019 09:15:14.531'},\n",
              " {'name': 'com.huawei.android.launcher',\n",
              "  'time': 486998448143812,\n",
              "  'timeDate': '09.08.2019 09:31:47.659'},\n",
              " {'name': 'ch.ethz.inf.vs.staals.visualattentionrecorder',\n",
              "  'time': 487003135912562,\n",
              "  'timeDate': '09.08.2019 09:31:52.346'}]"
            ]
          },
          "metadata": {},
          "execution_count": 53
        }
      ]
    },
    {
      "cell_type": "code",
      "metadata": {
        "id": "CxOuKl_rijke"
      },
      "source": [
        "df_app = pd.DataFrame(application_data)"
      ],
      "execution_count": null,
      "outputs": []
    },
    {
      "cell_type": "code",
      "metadata": {
        "colab": {
          "base_uri": "https://localhost:8080/",
          "height": 204
        },
        "id": "qplh1nozivqa",
        "outputId": "7d8aef1f-7171-463e-d5ab-aa7ade904fc2"
      },
      "source": [
        "df_app.head()"
      ],
      "execution_count": null,
      "outputs": [
        {
          "output_type": "execute_result",
          "data": {
            "text/html": [
              "<div>\n",
              "<style scoped>\n",
              "    .dataframe tbody tr th:only-of-type {\n",
              "        vertical-align: middle;\n",
              "    }\n",
              "\n",
              "    .dataframe tbody tr th {\n",
              "        vertical-align: top;\n",
              "    }\n",
              "\n",
              "    .dataframe thead th {\n",
              "        text-align: right;\n",
              "    }\n",
              "</style>\n",
              "<table border=\"1\" class=\"dataframe\">\n",
              "  <thead>\n",
              "    <tr style=\"text-align: right;\">\n",
              "      <th></th>\n",
              "      <th>name</th>\n",
              "      <th>time</th>\n",
              "      <th>timeDate</th>\n",
              "    </tr>\n",
              "  </thead>\n",
              "  <tbody>\n",
              "    <tr>\n",
              "      <th>0</th>\n",
              "      <td>com.huawei.android.launcher</td>\n",
              "      <td>485958652217929</td>\n",
              "      <td>09.08.2019 09:14:27.862</td>\n",
              "    </tr>\n",
              "    <tr>\n",
              "      <th>1</th>\n",
              "      <td>com.whatsapp</td>\n",
              "      <td>485959161927304</td>\n",
              "      <td>09.08.2019 09:14:28.372</td>\n",
              "    </tr>\n",
              "    <tr>\n",
              "      <th>2</th>\n",
              "      <td>com.huawei.systemmanager</td>\n",
              "      <td>485981416601780</td>\n",
              "      <td>09.08.2019 09:14:50.627</td>\n",
              "    </tr>\n",
              "    <tr>\n",
              "      <th>3</th>\n",
              "      <td>com.whatsapp</td>\n",
              "      <td>485987589108550</td>\n",
              "      <td>09.08.2019 09:14:56.799</td>\n",
              "    </tr>\n",
              "    <tr>\n",
              "      <th>4</th>\n",
              "      <td>com.huawei.android.launcher</td>\n",
              "      <td>486003216502298</td>\n",
              "      <td>09.08.2019 09:15:12.427</td>\n",
              "    </tr>\n",
              "  </tbody>\n",
              "</table>\n",
              "</div>"
            ],
            "text/plain": [
              "                          name             time                 timeDate\n",
              "0  com.huawei.android.launcher  485958652217929  09.08.2019 09:14:27.862\n",
              "1                 com.whatsapp  485959161927304  09.08.2019 09:14:28.372\n",
              "2     com.huawei.systemmanager  485981416601780  09.08.2019 09:14:50.627\n",
              "3                 com.whatsapp  485987589108550  09.08.2019 09:14:56.799\n",
              "4  com.huawei.android.launcher  486003216502298  09.08.2019 09:15:12.427"
            ]
          },
          "metadata": {},
          "execution_count": 56
        }
      ]
    },
    {
      "cell_type": "code",
      "metadata": {
        "colab": {
          "base_uri": "https://localhost:8080/"
        },
        "id": "_yy-s07wjMWr",
        "outputId": "60fa946e-4b2f-4099-f29f-a697edadde0d"
      },
      "source": [
        "print(df_app.info())"
      ],
      "execution_count": null,
      "outputs": [
        {
          "output_type": "stream",
          "name": "stdout",
          "text": [
            "<class 'pandas.core.frame.DataFrame'>\n",
            "RangeIndex: 8 entries, 0 to 7\n",
            "Data columns (total 3 columns):\n",
            " #   Column    Non-Null Count  Dtype \n",
            "---  ------    --------------  ----- \n",
            " 0   name      8 non-null      object\n",
            " 1   time      8 non-null      int64 \n",
            " 2   timeDate  8 non-null      object\n",
            "dtypes: int64(1), object(2)\n",
            "memory usage: 320.0+ bytes\n",
            "None\n"
          ]
        }
      ]
    },
    {
      "cell_type": "code",
      "metadata": {
        "colab": {
          "base_uri": "https://localhost:8080/"
        },
        "id": "g1waSMgMFkaC",
        "outputId": "3458fcc5-0f2b-49e1-be69-d1eee3b8649f"
      },
      "source": [
        "df_app['name'].describe()"
      ],
      "execution_count": null,
      "outputs": [
        {
          "output_type": "execute_result",
          "data": {
            "text/plain": [
              "count                               8\n",
              "unique                              5\n",
              "top       com.huawei.android.launcher\n",
              "freq                                3\n",
              "Name: name, dtype: object"
            ]
          },
          "metadata": {},
          "execution_count": 84
        }
      ]
    },
    {
      "cell_type": "code",
      "metadata": {
        "colab": {
          "base_uri": "https://localhost:8080/",
          "height": 297
        },
        "id": "gPA4meTH3TQh",
        "outputId": "a56bcb7f-b401-492c-dcdc-90dc762127af"
      },
      "source": [
        "df_app"
      ],
      "execution_count": null,
      "outputs": [
        {
          "output_type": "execute_result",
          "data": {
            "text/html": [
              "<div>\n",
              "<style scoped>\n",
              "    .dataframe tbody tr th:only-of-type {\n",
              "        vertical-align: middle;\n",
              "    }\n",
              "\n",
              "    .dataframe tbody tr th {\n",
              "        vertical-align: top;\n",
              "    }\n",
              "\n",
              "    .dataframe thead th {\n",
              "        text-align: right;\n",
              "    }\n",
              "</style>\n",
              "<table border=\"1\" class=\"dataframe\">\n",
              "  <thead>\n",
              "    <tr style=\"text-align: right;\">\n",
              "      <th></th>\n",
              "      <th>name</th>\n",
              "      <th>time</th>\n",
              "      <th>timeDate</th>\n",
              "    </tr>\n",
              "  </thead>\n",
              "  <tbody>\n",
              "    <tr>\n",
              "      <th>0</th>\n",
              "      <td>com.huawei.android.launcher</td>\n",
              "      <td>485958652217929</td>\n",
              "      <td>09.08.2019 09:14:27.862</td>\n",
              "    </tr>\n",
              "    <tr>\n",
              "      <th>1</th>\n",
              "      <td>com.whatsapp</td>\n",
              "      <td>485959161927304</td>\n",
              "      <td>09.08.2019 09:14:28.372</td>\n",
              "    </tr>\n",
              "    <tr>\n",
              "      <th>2</th>\n",
              "      <td>com.huawei.systemmanager</td>\n",
              "      <td>485981416601780</td>\n",
              "      <td>09.08.2019 09:14:50.627</td>\n",
              "    </tr>\n",
              "    <tr>\n",
              "      <th>3</th>\n",
              "      <td>com.whatsapp</td>\n",
              "      <td>485987589108550</td>\n",
              "      <td>09.08.2019 09:14:56.799</td>\n",
              "    </tr>\n",
              "    <tr>\n",
              "      <th>4</th>\n",
              "      <td>com.huawei.android.launcher</td>\n",
              "      <td>486003216502298</td>\n",
              "      <td>09.08.2019 09:15:12.427</td>\n",
              "    </tr>\n",
              "    <tr>\n",
              "      <th>5</th>\n",
              "      <td>com.instagram.android</td>\n",
              "      <td>486005321012714</td>\n",
              "      <td>09.08.2019 09:15:14.531</td>\n",
              "    </tr>\n",
              "    <tr>\n",
              "      <th>6</th>\n",
              "      <td>com.huawei.android.launcher</td>\n",
              "      <td>486998448143812</td>\n",
              "      <td>09.08.2019 09:31:47.659</td>\n",
              "    </tr>\n",
              "    <tr>\n",
              "      <th>7</th>\n",
              "      <td>ch.ethz.inf.vs.staals.visualattentionrecorder</td>\n",
              "      <td>487003135912562</td>\n",
              "      <td>09.08.2019 09:31:52.346</td>\n",
              "    </tr>\n",
              "  </tbody>\n",
              "</table>\n",
              "</div>"
            ],
            "text/plain": [
              "                                            name  ...                 timeDate\n",
              "0                    com.huawei.android.launcher  ...  09.08.2019 09:14:27.862\n",
              "1                                   com.whatsapp  ...  09.08.2019 09:14:28.372\n",
              "2                       com.huawei.systemmanager  ...  09.08.2019 09:14:50.627\n",
              "3                                   com.whatsapp  ...  09.08.2019 09:14:56.799\n",
              "4                    com.huawei.android.launcher  ...  09.08.2019 09:15:12.427\n",
              "5                          com.instagram.android  ...  09.08.2019 09:15:14.531\n",
              "6                    com.huawei.android.launcher  ...  09.08.2019 09:31:47.659\n",
              "7  ch.ethz.inf.vs.staals.visualattentionrecorder  ...  09.08.2019 09:31:52.346\n",
              "\n",
              "[8 rows x 3 columns]"
            ]
          },
          "metadata": {},
          "execution_count": 134
        }
      ]
    },
    {
      "cell_type": "code",
      "metadata": {
        "colab": {
          "base_uri": "https://localhost:8080/",
          "height": 311
        },
        "id": "DGl0beirfa51",
        "outputId": "9d7808ec-148e-4d38-fa25-052abf804f36"
      },
      "source": [
        "df_app.groupby(['name','time','timeDate']).count()"
      ],
      "execution_count": null,
      "outputs": [
        {
          "output_type": "execute_result",
          "data": {
            "text/html": [
              "<div>\n",
              "<style scoped>\n",
              "    .dataframe tbody tr th:only-of-type {\n",
              "        vertical-align: middle;\n",
              "    }\n",
              "\n",
              "    .dataframe tbody tr th {\n",
              "        vertical-align: top;\n",
              "    }\n",
              "\n",
              "    .dataframe thead th {\n",
              "        text-align: right;\n",
              "    }\n",
              "</style>\n",
              "<table border=\"1\" class=\"dataframe\">\n",
              "  <thead>\n",
              "    <tr style=\"text-align: right;\">\n",
              "      <th></th>\n",
              "      <th></th>\n",
              "      <th></th>\n",
              "    </tr>\n",
              "    <tr>\n",
              "      <th>name</th>\n",
              "      <th>time</th>\n",
              "      <th>timeDate</th>\n",
              "    </tr>\n",
              "  </thead>\n",
              "  <tbody>\n",
              "    <tr>\n",
              "      <th>ch.ethz.inf.vs.staals.visualattentionrecorder</th>\n",
              "      <th>487003135912562</th>\n",
              "      <th>09.08.2019 09:31:52.346</th>\n",
              "    </tr>\n",
              "    <tr>\n",
              "      <th rowspan=\"3\" valign=\"top\">com.huawei.android.launcher</th>\n",
              "      <th>485958652217929</th>\n",
              "      <th>09.08.2019 09:14:27.862</th>\n",
              "    </tr>\n",
              "    <tr>\n",
              "      <th>486003216502298</th>\n",
              "      <th>09.08.2019 09:15:12.427</th>\n",
              "    </tr>\n",
              "    <tr>\n",
              "      <th>486998448143812</th>\n",
              "      <th>09.08.2019 09:31:47.659</th>\n",
              "    </tr>\n",
              "    <tr>\n",
              "      <th>com.huawei.systemmanager</th>\n",
              "      <th>485981416601780</th>\n",
              "      <th>09.08.2019 09:14:50.627</th>\n",
              "    </tr>\n",
              "    <tr>\n",
              "      <th>com.instagram.android</th>\n",
              "      <th>486005321012714</th>\n",
              "      <th>09.08.2019 09:15:14.531</th>\n",
              "    </tr>\n",
              "    <tr>\n",
              "      <th rowspan=\"2\" valign=\"top\">com.whatsapp</th>\n",
              "      <th>485959161927304</th>\n",
              "      <th>09.08.2019 09:14:28.372</th>\n",
              "    </tr>\n",
              "    <tr>\n",
              "      <th>485987589108550</th>\n",
              "      <th>09.08.2019 09:14:56.799</th>\n",
              "    </tr>\n",
              "  </tbody>\n",
              "</table>\n",
              "</div>"
            ],
            "text/plain": [
              "Empty DataFrame\n",
              "Columns: []\n",
              "Index: [(ch.ethz.inf.vs.staals.visualattentionrecorder, 487003135912562, 09.08.2019 09:31:52.346), (com.huawei.android.launcher, 485958652217929, 09.08.2019 09:14:27.862), (com.huawei.android.launcher, 486003216502298, 09.08.2019 09:15:12.427), (com.huawei.android.launcher, 486998448143812, 09.08.2019 09:31:47.659), (com.huawei.systemmanager, 485981416601780, 09.08.2019 09:14:50.627), (com.instagram.android, 486005321012714, 09.08.2019 09:15:14.531), (com.whatsapp, 485959161927304, 09.08.2019 09:14:28.372), (com.whatsapp, 485987589108550, 09.08.2019 09:14:56.799)]"
            ]
          },
          "metadata": {},
          "execution_count": 151
        }
      ]
    },
    {
      "cell_type": "code",
      "metadata": {
        "colab": {
          "base_uri": "https://localhost:8080/",
          "height": 506
        },
        "id": "ZAI79Znl3kA9",
        "outputId": "eccc96ec-2fb1-41c8-fb53-93f5056377d4"
      },
      "source": [
        "# How many times one app is used \n",
        "df_app.groupby('name').name.count().plot(kind = 'bar')"
      ],
      "execution_count": null,
      "outputs": [
        {
          "output_type": "execute_result",
          "data": {
            "text/plain": [
              "<matplotlib.axes._subplots.AxesSubplot at 0x7f9dc0119a90>"
            ]
          },
          "metadata": {},
          "execution_count": 132
        },
        {
          "output_type": "display_data",
          "data": {
            "image/png": "[encoded data removed]",
            "text/plain": [
              "<Figure size 432x288 with 1 Axes>"
            ]
          },
          "metadata": {
            "needs_background": "light"
          }
        }
      ]
    },
    {
      "cell_type": "code",
      "metadata": {
        "colab": {
          "base_uri": "https://localhost:8080/"
        },
        "id": "Ckzk0IJKzmIj",
        "outputId": "0dc0ffbc-84cc-4c49-e566-d9e4c134365e"
      },
      "source": [
        "# Names of app used in the recording006\n",
        "name_of_apps = df_app['name'].unique()\n",
        "print(\"Unique apps used:\",name_of_apps)\n",
        "\n",
        "# NUmber of apps used in recording006\n",
        "print(\"Number of apps used:\",df_app['name'].nunique())\n"
      ],
      "execution_count": null,
      "outputs": [
        {
          "output_type": "stream",
          "name": "stdout",
          "text": [
            "Unique apps used: ['com.huawei.android.launcher' 'com.whatsapp' 'com.huawei.systemmanager'\n",
            " 'com.instagram.android' 'ch.ethz.inf.vs.staals.visualattentionrecorder']\n",
            "Number of apps used: 5\n"
          ]
        }
      ]
    },
    {
      "cell_type": "code",
      "metadata": {
        "colab": {
          "base_uri": "https://localhost:8080/"
        },
        "id": "ot-Ali19jWre",
        "outputId": "c38aa9c4-d2a6-4959-e588-a035f8b34f78"
      },
      "source": [
        "type(df_app)"
      ],
      "execution_count": null,
      "outputs": [
        {
          "output_type": "execute_result",
          "data": {
            "text/plain": [
              "pandas.core.frame.DataFrame"
            ]
          },
          "metadata": {},
          "execution_count": 37
        }
      ]
    },
    {
      "cell_type": "markdown",
      "metadata": {
        "id": "29Ldk3SuxJ-6"
      },
      "source": [
        "### notification_data.txt"
      ]
    },
    {
      "cell_type": "code",
      "metadata": {
        "id": "YQbSDLcbICKu"
      },
      "source": [
        "with open(os.path.join(recording_path, \"notification_data.txt\")) as notification_file:\n",
        "        notification_data = json.load(notification_file)[\"notification_data\"]"
      ],
      "execution_count": null,
      "outputs": []
    },
    {
      "cell_type": "code",
      "metadata": {
        "colab": {
          "base_uri": "https://localhost:8080/"
        },
        "id": "oNP33VyGxhjH",
        "outputId": "79e34490-260b-4dbb-9149-2b9d1d03aee4"
      },
      "source": [
        "type(notification_data)"
      ],
      "execution_count": null,
      "outputs": [
        {
          "output_type": "execute_result",
          "data": {
            "text/plain": [
              "list"
            ]
          },
          "metadata": {},
          "execution_count": 89
        }
      ]
    },
    {
      "cell_type": "code",
      "metadata": {
        "id": "bIbXJoA3ImYP"
      },
      "source": [
        "notification_data"
      ],
      "execution_count": null,
      "outputs": []
    },
    {
      "cell_type": "code",
      "metadata": {
        "id": "zqIfsG6rx4X4"
      },
      "source": [
        "df_notification = pd.DataFrame(notification_data)"
      ],
      "execution_count": null,
      "outputs": []
    },
    {
      "cell_type": "code",
      "metadata": {
        "colab": {
          "base_uri": "https://localhost:8080/",
          "height": 204
        },
        "id": "3tkN6QYpyM4d",
        "outputId": "e4091611-71c5-4435-ecc0-ad949473caa4"
      },
      "source": [
        "df_notification.head()"
      ],
      "execution_count": null,
      "outputs": [
        {
          "output_type": "execute_result",
          "data": {
            "text/html": [
              "<div>\n",
              "<style scoped>\n",
              "    .dataframe tbody tr th:only-of-type {\n",
              "        vertical-align: middle;\n",
              "    }\n",
              "\n",
              "    .dataframe tbody tr th {\n",
              "        vertical-align: top;\n",
              "    }\n",
              "\n",
              "    .dataframe thead th {\n",
              "        text-align: right;\n",
              "    }\n",
              "</style>\n",
              "<table border=\"1\" class=\"dataframe\">\n",
              "  <thead>\n",
              "    <tr style=\"text-align: right;\">\n",
              "      <th></th>\n",
              "      <th>event</th>\n",
              "      <th>package</th>\n",
              "      <th>category</th>\n",
              "      <th>tag</th>\n",
              "      <th>id</th>\n",
              "      <th>isOngoing</th>\n",
              "      <th>time</th>\n",
              "      <th>timeDate</th>\n",
              "      <th>timeSensor</th>\n",
              "    </tr>\n",
              "  </thead>\n",
              "  <tbody>\n",
              "    <tr>\n",
              "      <th>0</th>\n",
              "      <td>posted</td>\n",
              "      <td>ch.ethz.inf.vs.staals.visualattentionrecorder</td>\n",
              "      <td>None</td>\n",
              "      <td>None</td>\n",
              "      <td>1001</td>\n",
              "      <td>True</td>\n",
              "      <td>485957196163763</td>\n",
              "      <td>09.08.2019 09:14:26.406</td>\n",
              "      <td>1565334866349</td>\n",
              "    </tr>\n",
              "    <tr>\n",
              "      <th>1</th>\n",
              "      <td>posted</td>\n",
              "      <td>ch.ethz.inf.vs.staals.visualattentionrecorder</td>\n",
              "      <td>None</td>\n",
              "      <td>None</td>\n",
              "      <td>5475</td>\n",
              "      <td>False</td>\n",
              "      <td>485959740229388</td>\n",
              "      <td>09.08.2019 09:14:28.951</td>\n",
              "      <td>1565334868931</td>\n",
              "    </tr>\n",
              "    <tr>\n",
              "      <th>2</th>\n",
              "      <td>posted</td>\n",
              "      <td>ch.ethz.inf.vs.staals.visualattentionrecorder</td>\n",
              "      <td>None</td>\n",
              "      <td>None</td>\n",
              "      <td>5475</td>\n",
              "      <td>False</td>\n",
              "      <td>485961603566887</td>\n",
              "      <td>09.08.2019 09:14:30.814</td>\n",
              "      <td>1565334870800</td>\n",
              "    </tr>\n",
              "    <tr>\n",
              "      <th>3</th>\n",
              "      <td>posted</td>\n",
              "      <td>ch.ethz.inf.vs.staals.visualattentionrecorder</td>\n",
              "      <td>None</td>\n",
              "      <td>None</td>\n",
              "      <td>5475</td>\n",
              "      <td>False</td>\n",
              "      <td>485962691128866</td>\n",
              "      <td>09.08.2019 09:14:31.901</td>\n",
              "      <td>1565334871887</td>\n",
              "    </tr>\n",
              "    <tr>\n",
              "      <th>4</th>\n",
              "      <td>posted</td>\n",
              "      <td>ch.ethz.inf.vs.staals.visualattentionrecorder</td>\n",
              "      <td>None</td>\n",
              "      <td>None</td>\n",
              "      <td>5475</td>\n",
              "      <td>False</td>\n",
              "      <td>485963925509595</td>\n",
              "      <td>09.08.2019 09:14:33.136</td>\n",
              "      <td>1565334873116</td>\n",
              "    </tr>\n",
              "  </tbody>\n",
              "</table>\n",
              "</div>"
            ],
            "text/plain": [
              "    event  ...     timeSensor\n",
              "0  posted  ...  1565334866349\n",
              "1  posted  ...  1565334868931\n",
              "2  posted  ...  1565334870800\n",
              "3  posted  ...  1565334871887\n",
              "4  posted  ...  1565334873116\n",
              "\n",
              "[5 rows x 9 columns]"
            ]
          },
          "metadata": {},
          "execution_count": 94
        }
      ]
    },
    {
      "cell_type": "code",
      "metadata": {
        "colab": {
          "base_uri": "https://localhost:8080/"
        },
        "id": "9WmEVPiTyIzZ",
        "outputId": "168c2589-9c3e-4462-ffb2-a87d432f323f"
      },
      "source": [
        "print(df_notification.info())"
      ],
      "execution_count": null,
      "outputs": [
        {
          "output_type": "stream",
          "name": "stdout",
          "text": [
            "<class 'pandas.core.frame.DataFrame'>\n",
            "RangeIndex: 1010 entries, 0 to 1009\n",
            "Data columns (total 9 columns):\n",
            " #   Column      Non-Null Count  Dtype \n",
            "---  ------      --------------  ----- \n",
            " 0   event       1010 non-null   object\n",
            " 1   package     1010 non-null   object\n",
            " 2   category    0 non-null      object\n",
            " 3   tag         0 non-null      object\n",
            " 4   id          1010 non-null   int64 \n",
            " 5   isOngoing   1010 non-null   bool  \n",
            " 6   time        1010 non-null   int64 \n",
            " 7   timeDate    1010 non-null   object\n",
            " 8   timeSensor  1010 non-null   int64 \n",
            "dtypes: bool(1), int64(3), object(5)\n",
            "memory usage: 64.2+ KB\n",
            "None\n"
          ]
        }
      ]
    },
    {
      "cell_type": "code",
      "metadata": {
        "colab": {
          "base_uri": "https://localhost:8080/"
        },
        "id": "BlDUXIXoKUZt",
        "outputId": "27eb8b86-b2f2-41a1-a14e-f02b056d0a39"
      },
      "source": [
        "# Category and tag columns have zero entries\n",
        "df_notification.isna().sum()"
      ],
      "execution_count": null,
      "outputs": [
        {
          "output_type": "execute_result",
          "data": {
            "text/plain": [
              "event            0\n",
              "package          0\n",
              "category      1010\n",
              "tag           1010\n",
              "id               0\n",
              "isOngoing        0\n",
              "time             0\n",
              "timeDate         0\n",
              "timeSensor       0\n",
              "dtype: int64"
            ]
          },
          "metadata": {},
          "execution_count": 116
        }
      ]
    },
    {
      "cell_type": "code",
      "metadata": {
        "colab": {
          "base_uri": "https://localhost:8080/"
        },
        "id": "FWYDIbN_yYKK",
        "outputId": "5d4362bc-2ddf-40d3-950f-06b7fa4bc618"
      },
      "source": [
        "df_notification['package'].describe()"
      ],
      "execution_count": null,
      "outputs": [
        {
          "output_type": "execute_result",
          "data": {
            "text/plain": [
              "count                                              1010\n",
              "unique                                                2\n",
              "top       ch.ethz.inf.vs.staals.visualattentionrecorder\n",
              "freq                                               1009\n",
              "Name: package, dtype: object"
            ]
          },
          "metadata": {},
          "execution_count": 109
        }
      ]
    },
    {
      "cell_type": "code",
      "metadata": {
        "colab": {
          "base_uri": "https://localhost:8080/"
        },
        "id": "z5BiYL2ZVmKB",
        "outputId": "568ae190-816a-4851-e051-9ddf9d971a9f"
      },
      "source": [
        "# Different packages in the notification data\n",
        "df_notification['package'].unique()"
      ],
      "execution_count": null,
      "outputs": [
        {
          "output_type": "execute_result",
          "data": {
            "text/plain": [
              "array(['ch.ethz.inf.vs.staals.visualattentionrecorder',\n",
              "       'com.huawei.systemmanager'], dtype=object)"
            ]
          },
          "metadata": {},
          "execution_count": 115
        }
      ]
    },
    {
      "cell_type": "code",
      "metadata": {
        "colab": {
          "base_uri": "https://localhost:8080/"
        },
        "id": "pboE6qSlVTxL",
        "outputId": "d5d6409b-d30b-4529-8514-ae9cdd4adee2"
      },
      "source": [
        "# Different events in the notification data\n",
        "df_notification['event'].unique()"
      ],
      "execution_count": null,
      "outputs": [
        {
          "output_type": "execute_result",
          "data": {
            "text/plain": [
              "array(['posted', 'removed'], dtype=object)"
            ]
          },
          "metadata": {},
          "execution_count": 113
        }
      ]
    },
    {
      "cell_type": "code",
      "metadata": {
        "colab": {
          "base_uri": "https://localhost:8080/"
        },
        "id": "kqmniYhaVLmA",
        "outputId": "c519043a-13a9-4b60-c592-e5da79242882"
      },
      "source": [
        "df_notification['event'].describe()"
      ],
      "execution_count": null,
      "outputs": [
        {
          "output_type": "execute_result",
          "data": {
            "text/plain": [
              "count       1010\n",
              "unique         2\n",
              "top       posted\n",
              "freq        1008\n",
              "Name: event, dtype: object"
            ]
          },
          "metadata": {},
          "execution_count": 110
        }
      ]
    },
    {
      "cell_type": "markdown",
      "metadata": {
        "id": "pbrWIA1fWLC5"
      },
      "source": [
        "### device_data"
      ]
    },
    {
      "cell_type": "code",
      "metadata": {
        "id": "k0iMHDBTy79K"
      },
      "source": [
        "with open(os.path.join(recording_path, \"device_data.txt\")) as device_file:\n",
        "        device_data = json.load(device_file)[\"device_data\"]"
      ],
      "execution_count": null,
      "outputs": []
    },
    {
      "cell_type": "code",
      "metadata": {
        "id": "JEMTwivNWaoa"
      },
      "source": [
        "# Convert to dataframe\n",
        "df_device = pd.DataFrame(device_data)"
      ],
      "execution_count": null,
      "outputs": []
    },
    {
      "cell_type": "code",
      "metadata": {
        "colab": {
          "base_uri": "https://localhost:8080/",
          "height": 204
        },
        "id": "1jD5hdRoWcWW",
        "outputId": "83aac0ad-73af-453e-ce02-8460921232b0"
      },
      "source": [
        "df_device.head()"
      ],
      "execution_count": null,
      "outputs": [
        {
          "output_type": "execute_result",
          "data": {
            "text/html": [
              "<div>\n",
              "<style scoped>\n",
              "    .dataframe tbody tr th:only-of-type {\n",
              "        vertical-align: middle;\n",
              "    }\n",
              "\n",
              "    .dataframe tbody tr th {\n",
              "        vertical-align: top;\n",
              "    }\n",
              "\n",
              "    .dataframe thead th {\n",
              "        text-align: right;\n",
              "    }\n",
              "</style>\n",
              "<table border=\"1\" class=\"dataframe\">\n",
              "  <thead>\n",
              "    <tr style=\"text-align: right;\">\n",
              "      <th></th>\n",
              "      <th>event</th>\n",
              "      <th>val</th>\n",
              "      <th>time</th>\n",
              "      <th>timeDate</th>\n",
              "    </tr>\n",
              "  </thead>\n",
              "  <tbody>\n",
              "    <tr>\n",
              "      <th>0</th>\n",
              "      <td>ACTION_SCREEN_UNLOCKED</td>\n",
              "      <td>None</td>\n",
              "      <td>485957098045534</td>\n",
              "      <td>09.08.2019 09:14:26.308</td>\n",
              "    </tr>\n",
              "    <tr>\n",
              "      <th>1</th>\n",
              "      <td>ACTION_USER_PRESENT</td>\n",
              "      <td>None</td>\n",
              "      <td>485957098940846</td>\n",
              "      <td>09.08.2019 09:14:26.309</td>\n",
              "    </tr>\n",
              "    <tr>\n",
              "      <th>2</th>\n",
              "      <td>ACTION_SCREEN_ON</td>\n",
              "      <td>None</td>\n",
              "      <td>485957099240325</td>\n",
              "      <td>09.08.2019 09:14:26.309</td>\n",
              "    </tr>\n",
              "    <tr>\n",
              "      <th>3</th>\n",
              "      <td>ACTION_BATTERY_CHANGE</td>\n",
              "      <td>86</td>\n",
              "      <td>485957114750221</td>\n",
              "      <td>09.08.2019 09:14:26.325</td>\n",
              "    </tr>\n",
              "    <tr>\n",
              "      <th>4</th>\n",
              "      <td>BATTERY_STATUS_NOT_CHARGING</td>\n",
              "      <td>None</td>\n",
              "      <td>485957115508034</td>\n",
              "      <td>09.08.2019 09:14:26.326</td>\n",
              "    </tr>\n",
              "  </tbody>\n",
              "</table>\n",
              "</div>"
            ],
            "text/plain": [
              "                         event   val             time                 timeDate\n",
              "0       ACTION_SCREEN_UNLOCKED  None  485957098045534  09.08.2019 09:14:26.308\n",
              "1          ACTION_USER_PRESENT  None  485957098940846  09.08.2019 09:14:26.309\n",
              "2             ACTION_SCREEN_ON  None  485957099240325  09.08.2019 09:14:26.309\n",
              "3        ACTION_BATTERY_CHANGE    86  485957114750221  09.08.2019 09:14:26.325\n",
              "4  BATTERY_STATUS_NOT_CHARGING  None  485957115508034  09.08.2019 09:14:26.326"
            ]
          },
          "metadata": {},
          "execution_count": 121
        }
      ]
    },
    {
      "cell_type": "code",
      "metadata": {
        "colab": {
          "base_uri": "https://localhost:8080/"
        },
        "id": "edg03gMnXLEj",
        "outputId": "a0ef149c-66b6-4dfe-8d06-117f5ed9c810"
      },
      "source": [
        "df_device.info()"
      ],
      "execution_count": null,
      "outputs": [
        {
          "output_type": "stream",
          "name": "stdout",
          "text": [
            "<class 'pandas.core.frame.DataFrame'>\n",
            "RangeIndex: 71 entries, 0 to 70\n",
            "Data columns (total 4 columns):\n",
            " #   Column    Non-Null Count  Dtype \n",
            "---  ------    --------------  ----- \n",
            " 0   event     71 non-null     object\n",
            " 1   val       67 non-null     object\n",
            " 2   time      71 non-null     int64 \n",
            " 3   timeDate  71 non-null     object\n",
            "dtypes: int64(1), object(3)\n",
            "memory usage: 2.3+ KB\n"
          ]
        }
      ]
    },
    {
      "cell_type": "code",
      "metadata": {
        "colab": {
          "base_uri": "https://localhost:8080/"
        },
        "id": "iLHqgvgDXVAj",
        "outputId": "623a534b-253a-42dd-af18-df71eb8240bc"
      },
      "source": [
        "df_device['event'].unique()"
      ],
      "execution_count": null,
      "outputs": [
        {
          "output_type": "execute_result",
          "data": {
            "text/plain": [
              "array(['ACTION_SCREEN_UNLOCKED', 'ACTION_USER_PRESENT',\n",
              "       'ACTION_SCREEN_ON', 'ACTION_BATTERY_CHANGE',\n",
              "       'BATTERY_STATUS_NOT_CHARGING', 'ACTION_BRIGHTNESS_CHANGE',\n",
              "       'ACTION_BRIGHTNESS_MODE_CHANGE',\n",
              "       'ACTION_SCREEN_ORIENTATION_CHANGE', 'ACTION_RING_VOLUME_CHANGE',\n",
              "       'ACTION_MUSIC_VOLUME_CHANGE', 'ACTION_NOTIFICATION_VOLUME_CHANGE',\n",
              "       'ACTION_AUDIO_MODE_CHANGE', 'ACTION_RINGER_MODE_CHANGED',\n",
              "       'ACTION_CONNECTIVITY'], dtype=object)"
            ]
          },
          "metadata": {},
          "execution_count": 125
        }
      ]
    },
    {
      "cell_type": "code",
      "metadata": {
        "colab": {
          "base_uri": "https://localhost:8080/"
        },
        "id": "4eJHAodCWzKI",
        "outputId": "eb6bfb87-2030-4127-c447-a3c5ca1f04ea"
      },
      "source": [
        "df_device['event'].describe()"
      ],
      "execution_count": null,
      "outputs": [
        {
          "output_type": "execute_result",
          "data": {
            "text/plain": [
              "count                           71\n",
              "unique                          14\n",
              "top       ACTION_BRIGHTNESS_CHANGE\n",
              "freq                            45\n",
              "Name: event, dtype: object"
            ]
          },
          "metadata": {},
          "execution_count": 123
        }
      ]
    },
    {
      "cell_type": "code",
      "metadata": {
        "colab": {
          "base_uri": "https://localhost:8080/",
          "height": 493
        },
        "id": "V4FJ1anWXs6-",
        "outputId": "362291b8-49cd-403e-ce57-f085cb9c12c4"
      },
      "source": [
        "df_device.groupby('event').event.count().plot(kind = 'bar')"
      ],
      "execution_count": null,
      "outputs": [
        {
          "output_type": "execute_result",
          "data": {
            "text/plain": [
              "<matplotlib.axes._subplots.AxesSubplot at 0x7f9dbe148e50>"
            ]
          },
          "metadata": {},
          "execution_count": 133
        },
        {
          "output_type": "display_data",
          "data": {
            "image/png": "[encoded data removed]",
            "text/plain": [
              "<Figure size 432x288 with 1 Axes>"
            ]
          },
          "metadata": {
            "needs_background": "light"
          }
        }
      ]
    },
    {
      "cell_type": "code",
      "metadata": {
        "colab": {
          "base_uri": "https://localhost:8080/"
        },
        "id": "ktnSHrJXciGB",
        "outputId": "db8823bc-6fc1-499f-b245-960acff0b612"
      },
      "source": [
        "df_device['val'].unique()"
      ],
      "execution_count": null,
      "outputs": [
        {
          "output_type": "execute_result",
          "data": {
            "text/plain": [
              "array([None, '86', '96', 'AUTOMATIC', 'PORTRAIT',\n",
              "       '{\"current\":\"9\",\"max\":15}', '{\"current\":\"0\",\"max\":15}',\n",
              "       'MODE_NORMAL', 'RINGER_MODE_VIBRATE', 'WIFI_CONNECT', '102', '121',\n",
              "       '143', '168', '181', '177', '170', '163', '157', '150', '144',\n",
              "       '139', '133', '127', '122', '117', '113', '108', '104', '100',\n",
              "       '95', '85', '97', '115', '136', '162', '184', '182', '175', '161',\n",
              "       '154', '148', '142', '137', '132', '126', '116', '112', '107',\n",
              "       '103', '99', '{\"current\":\"7\",\"max\":15}',\n",
              "       '{\"current\":\"6\",\"max\":15}', '{\"current\":\"5\",\"max\":15}',\n",
              "       '{\"current\":\"4\",\"max\":15}', '{\"current\":\"3\",\"max\":15}', '84', '83',\n",
              "       '82', '81', '80', '79', '78'], dtype=object)"
            ]
          },
          "metadata": {},
          "execution_count": 135
        }
      ]
    },
    {
      "cell_type": "code",
      "metadata": {
        "colab": {
          "base_uri": "https://localhost:8080/",
          "height": 433
        },
        "id": "UiROUqYlciD-",
        "outputId": "85b199b3-f4fb-4ab6-c9d4-27c6b238d658"
      },
      "source": [
        "df_device.groupby(['event','val','time','timeDate']).count()"
      ],
      "execution_count": null,
      "outputs": [
        {
          "output_type": "execute_result",
          "data": {
            "text/html": [
              "<div>\n",
              "<style scoped>\n",
              "    .dataframe tbody tr th:only-of-type {\n",
              "        vertical-align: middle;\n",
              "    }\n",
              "\n",
              "    .dataframe tbody tr th {\n",
              "        vertical-align: top;\n",
              "    }\n",
              "\n",
              "    .dataframe thead th {\n",
              "        text-align: right;\n",
              "    }\n",
              "</style>\n",
              "<table border=\"1\" class=\"dataframe\">\n",
              "  <thead>\n",
              "    <tr style=\"text-align: right;\">\n",
              "      <th></th>\n",
              "      <th></th>\n",
              "      <th></th>\n",
              "      <th></th>\n",
              "    </tr>\n",
              "    <tr>\n",
              "      <th>event</th>\n",
              "      <th>val</th>\n",
              "      <th>time</th>\n",
              "      <th>timeDate</th>\n",
              "    </tr>\n",
              "  </thead>\n",
              "  <tbody>\n",
              "    <tr>\n",
              "      <th>ACTION_AUDIO_MODE_CHANGE</th>\n",
              "      <th>MODE_NORMAL</th>\n",
              "      <th>485957129656471</th>\n",
              "      <th>09.08.2019 09:14:26.340</th>\n",
              "    </tr>\n",
              "    <tr>\n",
              "      <th rowspan=\"4\" valign=\"top\">ACTION_BATTERY_CHANGE</th>\n",
              "      <th>78</th>\n",
              "      <th>486953310639653</th>\n",
              "      <th>09.08.2019 09:31:02.521</th>\n",
              "    </tr>\n",
              "    <tr>\n",
              "      <th>79</th>\n",
              "      <th>486830498589150</th>\n",
              "      <th>09.08.2019 09:28:59.709</th>\n",
              "    </tr>\n",
              "    <tr>\n",
              "      <th>80</th>\n",
              "      <th>486697278496983</th>\n",
              "      <th>09.08.2019 09:26:46.489</th>\n",
              "    </tr>\n",
              "    <tr>\n",
              "      <th>81</th>\n",
              "      <th>486595303952728</th>\n",
              "      <th>09.08.2019 09:25:04.514</th>\n",
              "    </tr>\n",
              "    <tr>\n",
              "      <th>...</th>\n",
              "      <th>...</th>\n",
              "      <th>...</th>\n",
              "      <th>...</th>\n",
              "    </tr>\n",
              "    <tr>\n",
              "      <th>ACTION_MUSIC_VOLUME_CHANGE</th>\n",
              "      <th>{\"current\":\"9\",\"max\":15}</th>\n",
              "      <th>485957128469492</th>\n",
              "      <th>09.08.2019 09:14:26.339</th>\n",
              "    </tr>\n",
              "    <tr>\n",
              "      <th>ACTION_NOTIFICATION_VOLUME_CHANGE</th>\n",
              "      <th>{\"current\":\"0\",\"max\":15}</th>\n",
              "      <th>485957129118971</th>\n",
              "      <th>09.08.2019 09:14:26.339</th>\n",
              "    </tr>\n",
              "    <tr>\n",
              "      <th>ACTION_RINGER_MODE_CHANGED</th>\n",
              "      <th>RINGER_MODE_VIBRATE</th>\n",
              "      <th>485957132836159</th>\n",
              "      <th>09.08.2019 09:14:26.343</th>\n",
              "    </tr>\n",
              "    <tr>\n",
              "      <th>ACTION_RING_VOLUME_CHANGE</th>\n",
              "      <th>{\"current\":\"9\",\"max\":15}</th>\n",
              "      <th>485957127521575</th>\n",
              "      <th>09.08.2019 09:14:26.338</th>\n",
              "    </tr>\n",
              "    <tr>\n",
              "      <th>ACTION_SCREEN_ORIENTATION_CHANGE</th>\n",
              "      <th>PORTRAIT</th>\n",
              "      <th>485957119285638</th>\n",
              "      <th>09.08.2019 09:14:26.330</th>\n",
              "    </tr>\n",
              "  </tbody>\n",
              "</table>\n",
              "<p>67 rows × 0 columns</p>\n",
              "</div>"
            ],
            "text/plain": [
              "Empty DataFrame\n",
              "Columns: []\n",
              "Index: [(ACTION_AUDIO_MODE_CHANGE, MODE_NORMAL, 485957129656471, 09.08.2019 09:14:26.340), (ACTION_BATTERY_CHANGE, 78, 486953310639653, 09.08.2019 09:31:02.521), (ACTION_BATTERY_CHANGE, 79, 486830498589150, 09.08.2019 09:28:59.709), (ACTION_BATTERY_CHANGE, 80, 486697278496983, 09.08.2019 09:26:46.489), (ACTION_BATTERY_CHANGE, 81, 486595303952728, 09.08.2019 09:25:04.514), (ACTION_BATTERY_CHANGE, 82, 486441768603272, 09.08.2019 09:22:30.980), (ACTION_BATTERY_CHANGE, 83, 486318716473083, 09.08.2019 09:20:27.927), (ACTION_BATTERY_CHANGE, 84, 486196012483518, 09.08.2019 09:18:25.223), (ACTION_BATTERY_CHANGE, 85, 486072686421037, 09.08.2019 09:16:21.897), (ACTION_BATTERY_CHANGE, 86, 485957114750221, 09.08.2019 09:14:26.325), (ACTION_BRIGHTNESS_CHANGE, 100, 486026594330940, 09.08.2019 09:15:35.805), (ACTION_BRIGHTNESS_CHANGE, 102, 486014095370525, 09.08.2019 09:15:23.306), (ACTION_BRIGHTNESS_CHANGE, 103, 486151489215817, 09.08.2019 09:17:40.700), (ACTION_BRIGHTNESS_CHANGE, 104, 486026085601773, 09.08.2019 09:15:35.296), (ACTION_BRIGHTNESS_CHANGE, 107, 486150952414775, 09.08.2019 09:17:40.163), (ACTION_BRIGHTNESS_CHANGE, 108, 486025574520523, 09.08.2019 09:15:34.785), (ACTION_BRIGHTNESS_CHANGE, 112, 486150437097588, 09.08.2019 09:17:39.647), (ACTION_BRIGHTNESS_CHANGE, 113, 486025061536669, 09.08.2019 09:15:34.272), (ACTION_BRIGHTNESS_CHANGE, 115, 486140088941860, 09.08.2019 09:17:29.299), (ACTION_BRIGHTNESS_CHANGE, 116, 486149928302275, 09.08.2019 09:17:39.139), (ACTION_BRIGHTNESS_CHANGE, 117, 486024542877294, 09.08.2019 09:15:33.753), (ACTION_BRIGHTNESS_CHANGE, 121, 486014624650733, 09.08.2019 09:15:23.835), (ACTION_BRIGHTNESS_CHANGE, 121, 486149415230400, 09.08.2019 09:17:38.626), (ACTION_BRIGHTNESS_CHANGE, 122, 486024031144482, 09.08.2019 09:15:33.241), (ACTION_BRIGHTNESS_CHANGE, 126, 486148894711129, 09.08.2019 09:17:38.105), (ACTION_BRIGHTNESS_CHANGE, 127, 486023520436149, 09.08.2019 09:15:32.731), (ACTION_BRIGHTNESS_CHANGE, 132, 486148359871546, 09.08.2019 09:17:37.570), (ACTION_BRIGHTNESS_CHANGE, 133, 486023005699170, 09.08.2019 09:15:32.216), (ACTION_BRIGHTNESS_CHANGE, 136, 486140604406443, 09.08.2019 09:17:29.815), (ACTION_BRIGHTNESS_CHANGE, 137, 486147848981442, 09.08.2019 09:17:37.059), (ACTION_BRIGHTNESS_CHANGE, 139, 486022455821565, 09.08.2019 09:15:31.683), (ACTION_BRIGHTNESS_CHANGE, 142, 486147336329359, 09.08.2019 09:17:36.547), (ACTION_BRIGHTNESS_CHANGE, 143, 486015141158546, 09.08.2019 09:15:24.352), (ACTION_BRIGHTNESS_CHANGE, 144, 486021938047607, 09.08.2019 09:15:31.148), (ACTION_BRIGHTNESS_CHANGE, 148, 486146822980921, 09.08.2019 09:17:36.033), (ACTION_BRIGHTNESS_CHANGE, 150, 486021419955420, 09.08.2019 09:15:30.630), (ACTION_BRIGHTNESS_CHANGE, 154, 486146314346026, 09.08.2019 09:17:35.525), (ACTION_BRIGHTNESS_CHANGE, 157, 486020905095003, 09.08.2019 09:15:30.115), (ACTION_BRIGHTNESS_CHANGE, 161, 486145805385088, 09.08.2019 09:17:35.016), (ACTION_BRIGHTNESS_CHANGE, 162, 486141132945506, 09.08.2019 09:17:30.343), (ACTION_BRIGHTNESS_CHANGE, 163, 486020385196566, 09.08.2019 09:15:29.596), (ACTION_BRIGHTNESS_CHANGE, 168, 486015680181983, 09.08.2019 09:15:24.891), (ACTION_BRIGHTNESS_CHANGE, 168, 486145284810088, 09.08.2019 09:17:34.495), (ACTION_BRIGHTNESS_CHANGE, 170, 486019866414274, 09.08.2019 09:15:29.077), (ACTION_BRIGHTNESS_CHANGE, 175, 486144767236130, 09.08.2019 09:17:33.978), (ACTION_BRIGHTNESS_CHANGE, 177, 486019349846045, 09.08.2019 09:15:28.560), (ACTION_BRIGHTNESS_CHANGE, 181, 486016223905941, 09.08.2019 09:15:25.434), (ACTION_BRIGHTNESS_CHANGE, 182, 486144251197068, 09.08.2019 09:17:33.462), (ACTION_BRIGHTNESS_CHANGE, 184, 486141649700714, 09.08.2019 09:17:30.860), (ACTION_BRIGHTNESS_CHANGE, 95, 486027634027815, 09.08.2019 09:15:36.845), (ACTION_BRIGHTNESS_CHANGE, 96, 485957116902305, 09.08.2019 09:14:26.327), (ACTION_BRIGHTNESS_CHANGE, 96, 486027104866877, 09.08.2019 09:15:36.315), (ACTION_BRIGHTNESS_CHANGE, 97, 486139578165298, 09.08.2019 09:17:28.788), (ACTION_BRIGHTNESS_CHANGE, 97, 486152527837691, 09.08.2019 09:17:41.738), (ACTION_BRIGHTNESS_CHANGE, 99, 486152003658004, 09.08.2019 09:17:41.214), (ACTION_BRIGHTNESS_MODE_CHANGE, AUTOMATIC, 485957117202825, 09.08.2019 09:14:26.327), (ACTION_CONNECTIVITY, WIFI_CONNECT, 485957133334596, 09.08.2019 09:14:26.344), (ACTION_MUSIC_VOLUME_CHANGE, {\"current\":\"3\",\"max\":15}, 486182040742374, 09.08.2019 09:18:11.251), (ACTION_MUSIC_VOLUME_CHANGE, {\"current\":\"4\",\"max\":15}, 486177852650708, 09.08.2019 09:18:07.063), (ACTION_MUSIC_VOLUME_CHANGE, {\"current\":\"5\",\"max\":15}, 486173721115292, 09.08.2019 09:18:02.931), (ACTION_MUSIC_VOLUME_CHANGE, {\"current\":\"6\",\"max\":15}, 486172658863209, 09.08.2019 09:18:01.869), (ACTION_MUSIC_VOLUME_CHANGE, {\"current\":\"7\",\"max\":15}, 486172146984563, 09.08.2019 09:18:01.357), (ACTION_MUSIC_VOLUME_CHANGE, {\"current\":\"9\",\"max\":15}, 485957128469492, 09.08.2019 09:14:26.339), (ACTION_NOTIFICATION_VOLUME_CHANGE, {\"current\":\"0\",\"max\":15}, 485957129118971, 09.08.2019 09:14:26.339), (ACTION_RINGER_MODE_CHANGED, RINGER_MODE_VIBRATE, 485957132836159, 09.08.2019 09:14:26.343), (ACTION_RING_VOLUME_CHANGE, {\"current\":\"9\",\"max\":15}, 485957127521575, 09.08.2019 09:14:26.338), (ACTION_SCREEN_ORIENTATION_CHANGE, PORTRAIT, 485957119285638, 09.08.2019 09:14:26.330)]\n",
              "\n",
              "[67 rows x 0 columns]"
            ]
          },
          "metadata": {},
          "execution_count": 153
        }
      ]
    },
    {
      "cell_type": "markdown",
      "metadata": {
        "id": "IBkr96lnZ4SO"
      },
      "source": [
        "# Findings:\n",
        "## 1. Application_data (Useful)\n",
        "     - Whatsapp and instagram are most used apps excluding (android launcher app)\n",
        "     - Instagram is used for longer duration\n",
        "     - \n",
        "## 2. Notification_data (Not so useful)\n",
        "     - Category and Tag column have zero entries (all null values)\n",
        "     - Only two events: 'posted' and 'removed' \n",
        "     - Most of the notifications from visual attention recorder\n",
        "     - don't we have notifications data of insta and whatsapp?\n",
        "     - \n",
        "## 3. Device_data (Useful)\n",
        "     - 'Event' and 'val 'column is most useful\n",
        "     - "
      ]
    }
  ]
}
