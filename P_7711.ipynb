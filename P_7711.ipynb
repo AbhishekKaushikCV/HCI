{
  "nbformat": 4,
  "nbformat_minor": 0,
  "metadata": {
    "colab": {
      "name": "P_7711.ipynb",
      "provenance": [],
      "include_colab_link": true
    },
    "kernelspec": {
      "name": "python3",
      "display_name": "Python 3"
    },
    "language_info": {
      "name": "python"
    }
  },
  "cells": [
    {
      "cell_type": "markdown",
      "metadata": {
        "id": "view-in-github",
        "colab_type": "text"
      },
      "source": [
        "<a href=\"https://colab.research.google.com/github/AbhishekKaushikCV/HCI/blob/main/P_7711.ipynb\" target=\"_parent\"><img src=\"https://colab.research.google.com/assets/colab-badge.svg\" alt=\"Open In Colab\"/></a>"
      ]
    },
    {
      "cell_type": "markdown",
      "metadata": {
        "id": "x99SEGGeY992"
      },
      "source": [
        "# Participant:7711\n",
        " \n",
        "## Data Analysis\n",
        "- Application_data\n",
        "- Notification_data\n",
        "- Device_data"
      ]
    },
    {
      "cell_type": "markdown",
      "metadata": {
        "id": "wXpKGH4PB-pH"
      },
      "source": [
        "### Application_data"
      ]
    },
    {
      "cell_type": "code",
      "metadata": {
        "colab": {
          "base_uri": "https://localhost:8080/"
        },
        "id": "eivB3Ap5Npwh",
        "outputId": "319544fc-3d13-45cb-e434-220f68a2c099"
      },
      "source": [
        "from google.colab import drive\n",
        "drive.mount('/content/gdrive')"
      ],
      "execution_count": 2,
      "outputs": [
        {
          "output_type": "stream",
          "name": "stdout",
          "text": [
            "Mounted at /content/gdrive\n"
          ]
        }
      ]
    },
    {
      "cell_type": "code",
      "metadata": {
        "id": "BquTSZtwN1PC"
      },
      "source": [
        "import pandas as pd\n",
        "import matplotlib.pyplot as plt\n",
        "import json\n",
        "import os"
      ],
      "execution_count": 9,
      "outputs": []
    },
    {
      "cell_type": "code",
      "metadata": {
        "id": "zbDa4KgIN3j-"
      },
      "source": [
        "from pathlib import Path\n",
        "\n",
        "# Find all the folders\n",
        "root_dir = Path('/content/gdrive/MyDrive/fd249093-60d2-4d4f-99d0-3e98954f7711')\n",
        "folders = [fld for fld in root_dir.iterdir() if fld.is_dir()]\n",
        "\n",
        "# Find all the file names\n",
        "all_filenames = []\n",
        "for fld in folders:\n",
        "    for f in fld.glob('*application_data.txt'):\n",
        "        all_filenames.append(f.name)"
      ],
      "execution_count": null,
      "outputs": []
    },
    {
      "cell_type": "code",
      "metadata": {
        "id": "CBgiIJrWbIhO"
      },
      "source": [
        "folders"
      ],
      "execution_count": null,
      "outputs": []
    },
    {
      "cell_type": "code",
      "metadata": {
        "id": "-M3B--kXQrsR"
      },
      "source": [
        "all_filenames"
      ],
      "execution_count": null,
      "outputs": []
    },
    {
      "cell_type": "code",
      "metadata": {
        "id": "vMB6F4TROAtq"
      },
      "source": [
        "# Open and load the file  \n",
        "for f in list(set(all_filenames)):\n",
        "    app_data = pd.DataFrame({}) # An empty dataframe\n",
        "\n",
        "    for fld in folders:\n",
        "        if (fld / f).is_file():\n",
        "           with open(fld /f, 'r') as fp:\n",
        "            data =  json.load(fp)[\"application_data\"] \n",
        "            temp_df = pd.DataFrame(data)\n",
        "            app_data = app_data.append(temp_df,ignore_index=True)           "
      ],
      "execution_count": null,
      "outputs": []
    },
    {
      "cell_type": "code",
      "metadata": {
        "colab": {
          "base_uri": "https://localhost:8080/",
          "height": 419
        },
        "id": "LZqw1NNxI5ur",
        "outputId": "4b817d00-e9de-4904-8445-41d909620066"
      },
      "source": [
        "app_data"
      ],
      "execution_count": null,
      "outputs": [
        {
          "output_type": "execute_result",
          "data": {
            "text/html": [
              "<div>\n",
              "<style scoped>\n",
              "    .dataframe tbody tr th:only-of-type {\n",
              "        vertical-align: middle;\n",
              "    }\n",
              "\n",
              "    .dataframe tbody tr th {\n",
              "        vertical-align: top;\n",
              "    }\n",
              "\n",
              "    .dataframe thead th {\n",
              "        text-align: right;\n",
              "    }\n",
              "</style>\n",
              "<table border=\"1\" class=\"dataframe\">\n",
              "  <thead>\n",
              "    <tr style=\"text-align: right;\">\n",
              "      <th></th>\n",
              "      <th>name</th>\n",
              "      <th>time</th>\n",
              "      <th>timeDate</th>\n",
              "    </tr>\n",
              "  </thead>\n",
              "  <tbody>\n",
              "    <tr>\n",
              "      <th>0</th>\n",
              "      <td>com.huawei.android.launcher</td>\n",
              "      <td>453886603627243</td>\n",
              "      <td>09.08.2019 00:19:53.046</td>\n",
              "    </tr>\n",
              "    <tr>\n",
              "      <th>1</th>\n",
              "      <td>com.google.android.gm</td>\n",
              "      <td>453888156162139</td>\n",
              "      <td>09.08.2019 00:19:54.598</td>\n",
              "    </tr>\n",
              "    <tr>\n",
              "      <th>2</th>\n",
              "      <td>com.huawei.android.launcher</td>\n",
              "      <td>453933167223590</td>\n",
              "      <td>09.08.2019 00:20:39.609</td>\n",
              "    </tr>\n",
              "    <tr>\n",
              "      <th>3</th>\n",
              "      <td>ch.ethz.inf.vs.staals.visualattentionrecorder</td>\n",
              "      <td>453933673994423</td>\n",
              "      <td>09.08.2019 00:20:40.116</td>\n",
              "    </tr>\n",
              "    <tr>\n",
              "      <th>4</th>\n",
              "      <td>com.google.android.gm</td>\n",
              "      <td>453936877236089</td>\n",
              "      <td>09.08.2019 00:20:43.319</td>\n",
              "    </tr>\n",
              "    <tr>\n",
              "      <th>...</th>\n",
              "      <td>...</td>\n",
              "      <td>...</td>\n",
              "      <td>...</td>\n",
              "    </tr>\n",
              "    <tr>\n",
              "      <th>211</th>\n",
              "      <td>com.netflix.mediaclient</td>\n",
              "      <td>331709405178146</td>\n",
              "      <td>13.08.2019 22:37:17.329</td>\n",
              "    </tr>\n",
              "    <tr>\n",
              "      <th>212</th>\n",
              "      <td>com.huawei.android.launcher</td>\n",
              "      <td>332066424208820</td>\n",
              "      <td>13.08.2019 22:43:14.348</td>\n",
              "    </tr>\n",
              "    <tr>\n",
              "      <th>213</th>\n",
              "      <td>com.android.systemui</td>\n",
              "      <td>332066947053612</td>\n",
              "      <td>13.08.2019 22:43:14.871</td>\n",
              "    </tr>\n",
              "    <tr>\n",
              "      <th>214</th>\n",
              "      <td>com.huawei.android.launcher</td>\n",
              "      <td>332067457207778</td>\n",
              "      <td>13.08.2019 22:43:15.381</td>\n",
              "    </tr>\n",
              "    <tr>\n",
              "      <th>215</th>\n",
              "      <td>ch.ethz.inf.vs.staals.visualattentionrecorder</td>\n",
              "      <td>332068481903612</td>\n",
              "      <td>13.08.2019 22:43:16.406</td>\n",
              "    </tr>\n",
              "  </tbody>\n",
              "</table>\n",
              "<p>216 rows × 3 columns</p>\n",
              "</div>"
            ],
            "text/plain": [
              "                                              name  ...                 timeDate\n",
              "0                      com.huawei.android.launcher  ...  09.08.2019 00:19:53.046\n",
              "1                            com.google.android.gm  ...  09.08.2019 00:19:54.598\n",
              "2                      com.huawei.android.launcher  ...  09.08.2019 00:20:39.609\n",
              "3    ch.ethz.inf.vs.staals.visualattentionrecorder  ...  09.08.2019 00:20:40.116\n",
              "4                            com.google.android.gm  ...  09.08.2019 00:20:43.319\n",
              "..                                             ...  ...                      ...\n",
              "211                        com.netflix.mediaclient  ...  13.08.2019 22:37:17.329\n",
              "212                    com.huawei.android.launcher  ...  13.08.2019 22:43:14.348\n",
              "213                           com.android.systemui  ...  13.08.2019 22:43:14.871\n",
              "214                    com.huawei.android.launcher  ...  13.08.2019 22:43:15.381\n",
              "215  ch.ethz.inf.vs.staals.visualattentionrecorder  ...  13.08.2019 22:43:16.406\n",
              "\n",
              "[216 rows x 3 columns]"
            ]
          },
          "metadata": {},
          "execution_count": 82
        }
      ]
    },
    {
      "cell_type": "code",
      "metadata": {
        "id": "u0qzu6UPEF3u"
      },
      "source": [
        "# Sort the values by timeDate\n",
        "app_data = app_data.sort_values(by=['timeDate'],ignore_index=True)"
      ],
      "execution_count": null,
      "outputs": []
    },
    {
      "cell_type": "code",
      "metadata": {
        "colab": {
          "base_uri": "https://localhost:8080/",
          "height": 419
        },
        "id": "F5BahRTzInlj",
        "outputId": "131ed274-97a3-45aa-c323-ed6748c39504"
      },
      "source": [
        "app_data"
      ],
      "execution_count": null,
      "outputs": [
        {
          "output_type": "execute_result",
          "data": {
            "text/html": [
              "<div>\n",
              "<style scoped>\n",
              "    .dataframe tbody tr th:only-of-type {\n",
              "        vertical-align: middle;\n",
              "    }\n",
              "\n",
              "    .dataframe tbody tr th {\n",
              "        vertical-align: top;\n",
              "    }\n",
              "\n",
              "    .dataframe thead th {\n",
              "        text-align: right;\n",
              "    }\n",
              "</style>\n",
              "<table border=\"1\" class=\"dataframe\">\n",
              "  <thead>\n",
              "    <tr style=\"text-align: right;\">\n",
              "      <th></th>\n",
              "      <th>name</th>\n",
              "      <th>time</th>\n",
              "      <th>timeDate</th>\n",
              "    </tr>\n",
              "  </thead>\n",
              "  <tbody>\n",
              "    <tr>\n",
              "      <th>0</th>\n",
              "      <td>com.huawei.android.launcher</td>\n",
              "      <td>453886603627243</td>\n",
              "      <td>09.08.2019 00:19:53.046</td>\n",
              "    </tr>\n",
              "    <tr>\n",
              "      <th>1</th>\n",
              "      <td>com.google.android.gm</td>\n",
              "      <td>453888156162139</td>\n",
              "      <td>09.08.2019 00:19:54.598</td>\n",
              "    </tr>\n",
              "    <tr>\n",
              "      <th>2</th>\n",
              "      <td>com.huawei.android.launcher</td>\n",
              "      <td>453933167223590</td>\n",
              "      <td>09.08.2019 00:20:39.609</td>\n",
              "    </tr>\n",
              "    <tr>\n",
              "      <th>3</th>\n",
              "      <td>ch.ethz.inf.vs.staals.visualattentionrecorder</td>\n",
              "      <td>453933673994423</td>\n",
              "      <td>09.08.2019 00:20:40.116</td>\n",
              "    </tr>\n",
              "    <tr>\n",
              "      <th>4</th>\n",
              "      <td>com.google.android.gm</td>\n",
              "      <td>453936877236089</td>\n",
              "      <td>09.08.2019 00:20:43.319</td>\n",
              "    </tr>\n",
              "    <tr>\n",
              "      <th>...</th>\n",
              "      <td>...</td>\n",
              "      <td>...</td>\n",
              "      <td>...</td>\n",
              "    </tr>\n",
              "    <tr>\n",
              "      <th>211</th>\n",
              "      <td>com.netflix.mediaclient</td>\n",
              "      <td>331709405178146</td>\n",
              "      <td>13.08.2019 22:37:17.329</td>\n",
              "    </tr>\n",
              "    <tr>\n",
              "      <th>212</th>\n",
              "      <td>com.huawei.android.launcher</td>\n",
              "      <td>332066424208820</td>\n",
              "      <td>13.08.2019 22:43:14.348</td>\n",
              "    </tr>\n",
              "    <tr>\n",
              "      <th>213</th>\n",
              "      <td>com.android.systemui</td>\n",
              "      <td>332066947053612</td>\n",
              "      <td>13.08.2019 22:43:14.871</td>\n",
              "    </tr>\n",
              "    <tr>\n",
              "      <th>214</th>\n",
              "      <td>com.huawei.android.launcher</td>\n",
              "      <td>332067457207778</td>\n",
              "      <td>13.08.2019 22:43:15.381</td>\n",
              "    </tr>\n",
              "    <tr>\n",
              "      <th>215</th>\n",
              "      <td>ch.ethz.inf.vs.staals.visualattentionrecorder</td>\n",
              "      <td>332068481903612</td>\n",
              "      <td>13.08.2019 22:43:16.406</td>\n",
              "    </tr>\n",
              "  </tbody>\n",
              "</table>\n",
              "<p>216 rows × 3 columns</p>\n",
              "</div>"
            ],
            "text/plain": [
              "                                              name  ...                 timeDate\n",
              "0                      com.huawei.android.launcher  ...  09.08.2019 00:19:53.046\n",
              "1                            com.google.android.gm  ...  09.08.2019 00:19:54.598\n",
              "2                      com.huawei.android.launcher  ...  09.08.2019 00:20:39.609\n",
              "3    ch.ethz.inf.vs.staals.visualattentionrecorder  ...  09.08.2019 00:20:40.116\n",
              "4                            com.google.android.gm  ...  09.08.2019 00:20:43.319\n",
              "..                                             ...  ...                      ...\n",
              "211                        com.netflix.mediaclient  ...  13.08.2019 22:37:17.329\n",
              "212                    com.huawei.android.launcher  ...  13.08.2019 22:43:14.348\n",
              "213                           com.android.systemui  ...  13.08.2019 22:43:14.871\n",
              "214                    com.huawei.android.launcher  ...  13.08.2019 22:43:15.381\n",
              "215  ch.ethz.inf.vs.staals.visualattentionrecorder  ...  13.08.2019 22:43:16.406\n",
              "\n",
              "[216 rows x 3 columns]"
            ]
          },
          "metadata": {},
          "execution_count": 81
        }
      ]
    },
    {
      "cell_type": "code",
      "metadata": {
        "colab": {
          "base_uri": "https://localhost:8080/"
        },
        "id": "o096rPHYM9zI",
        "outputId": "9a467725-618d-4b05-81c4-a1c78280ef87"
      },
      "source": [
        "# How many different apps?\n",
        "print(app_data['name'].describe())"
      ],
      "execution_count": null,
      "outputs": [
        {
          "output_type": "stream",
          "name": "stdout",
          "text": [
            "count                             216\n",
            "unique                             18\n",
            "top       com.huawei.android.launcher\n",
            "freq                               96\n",
            "Name: name, dtype: object\n"
          ]
        }
      ]
    },
    {
      "cell_type": "markdown",
      "metadata": {
        "id": "4QRC8dz-NK2k"
      },
      "source": [
        "- 18 different apps were used by the participant during the data recording"
      ]
    },
    {
      "cell_type": "code",
      "metadata": {
        "colab": {
          "base_uri": "https://localhost:8080/"
        },
        "id": "E4-_vIWXM-bT",
        "outputId": "3efa5185-4280-4093-de73-ca99aa7bb646"
      },
      "source": [
        "# Start and End time of the data recording\n",
        "print(\"Start time Date:\",app_data[\"timeDate\"].min())\n",
        "print(\"End time Date:\",app_data[\"timeDate\"].max())"
      ],
      "execution_count": null,
      "outputs": [
        {
          "output_type": "stream",
          "name": "stdout",
          "text": [
            "Start time Date: 09.08.2019 00:19:53.046\n",
            "End time Date: 13.08.2019 22:43:16.406\n"
          ]
        }
      ]
    },
    {
      "cell_type": "code",
      "metadata": {
        "id": "GJDC6zjjNqoM"
      },
      "source": [
        "# Exclude the android launcher, and attention recorder app\n",
        "\n",
        "mask = app_data['name'].isin(['com.huawei.android.launcher', 'ch.ethz.inf.vs.staals.visualattentionrecorder'])\n",
        "app_data = app_data[~mask]"
      ],
      "execution_count": null,
      "outputs": []
    },
    {
      "cell_type": "code",
      "metadata": {
        "colab": {
          "base_uri": "https://localhost:8080/"
        },
        "id": "HDCZLSxXPniG",
        "outputId": "1f8b43ca-023e-4019-912c-aaa8ca93ae04"
      },
      "source": [
        "print(app_data['name'].describe())"
      ],
      "execution_count": null,
      "outputs": [
        {
          "output_type": "stream",
          "name": "stdout",
          "text": [
            "count                        83\n",
            "unique                       16\n",
            "top       com.instagram.android\n",
            "freq                         25\n",
            "Name: name, dtype: object\n"
          ]
        }
      ]
    },
    {
      "cell_type": "code",
      "metadata": {
        "colab": {
          "base_uri": "https://localhost:8080/"
        },
        "id": "45CEYMDfPrHP",
        "outputId": "b1c2f411-d7fe-4024-8c8d-f5483d18d036"
      },
      "source": [
        "# Changed app names\n",
        "app_names = app_data.name.unique() # Different app names used in the data\n",
        "changed_names = ['google','desklock','apple music','books','instagram','facebook','netflix','systemui','whatsapp','systemmanager','chrome',\n",
        "                 'huawei_hwouc','youtube','huawi_search','wahanda_marketplace','zuerimensa'] # New app names\n",
        "\n",
        "app_data = app_data.replace(to_replace=app_names,value=changed_names) # Replace old names by new names\n",
        "print(app_data)"
      ],
      "execution_count": null,
      "outputs": [
        {
          "output_type": "stream",
          "name": "stdout",
          "text": [
            "            name             time                 timeDate\n",
            "1         google  453888156162139  09.08.2019 00:19:54.598\n",
            "4         google  453936877236089  09.08.2019 00:20:43.319\n",
            "6       desklock  453963946712648  09.08.2019 00:21:10.389\n",
            "12        google  482084973412031  09.08.2019 08:09:54.121\n",
            "14   apple music  482102192831820  09.08.2019 08:10:11.341\n",
            "..           ...              ...                      ...\n",
            "203    instagram  305043131077703  13.08.2019 15:12:51.042\n",
            "207     facebook  308764488396512  13.08.2019 16:14:52.253\n",
            "210     systemui  331708359963042  13.08.2019 22:37:16.284\n",
            "211      netflix  331709405178146  13.08.2019 22:37:17.329\n",
            "213     systemui  332066947053612  13.08.2019 22:43:14.871\n",
            "\n",
            "[83 rows x 3 columns]\n"
          ]
        }
      ]
    },
    {
      "cell_type": "code",
      "metadata": {
        "colab": {
          "base_uri": "https://localhost:8080/",
          "height": 571
        },
        "id": "aH3QAQIvQK1f",
        "outputId": "a02222d0-be9e-401b-a7af-985a98ce3958"
      },
      "source": [
        "# How many times an app is used?\n",
        "app_by_name = app_data.name.value_counts()\n",
        "print(app_by_name)\n",
        "app_by_name.plot(kind='barh')"
      ],
      "execution_count": null,
      "outputs": [
        {
          "output_type": "stream",
          "name": "stdout",
          "text": [
            "instagram              25\n",
            "whatsapp               15\n",
            "systemui                9\n",
            "facebook                6\n",
            "google                  6\n",
            "netflix                 5\n",
            "wahanda_marketplace     4\n",
            "huawi_search            4\n",
            "chrome                  2\n",
            "systemmanager           1\n",
            "zuerimensa              1\n",
            "desklock                1\n",
            "apple music             1\n",
            "huawei_hwouc            1\n",
            "books                   1\n",
            "youtube                 1\n",
            "Name: name, dtype: int64\n"
          ]
        },
        {
          "output_type": "execute_result",
          "data": {
            "text/plain": [
              "<matplotlib.axes._subplots.AxesSubplot at 0x7f5ed1ceead0>"
            ]
          },
          "metadata": {},
          "execution_count": 104
        },
        {
          "output_type": "display_data",
          "data": {
            "image/png": "[encoded data removed]",
            "text/plain": [
              "<Figure size 432x288 with 1 Axes>"
            ]
          },
          "metadata": {
            "needs_background": "light"
          }
        }
      ]
    },
    {
      "cell_type": "markdown",
      "metadata": {
        "id": "xRR7G-wSRhko"
      },
      "source": [
        "     - Instagram and whatsapp are the most used apps by the user\n",
        "     - Least used apps are: books, youtube, music"
      ]
    },
    {
      "cell_type": "code",
      "metadata": {
        "id": "3WzpA9MqRQz4"
      },
      "source": [
        "# Total usage of an app, for Example: Instagram usage"
      ],
      "execution_count": null,
      "outputs": []
    },
    {
      "cell_type": "markdown",
      "metadata": {
        "id": "A1fGKVwcarFR"
      },
      "source": [
        "### Question: \n",
        "- What is the meaning of time in the dataset? \n",
        "- Can we use this to find total usage of the app?"
      ]
    },
    {
      "cell_type": "code",
      "metadata": {
        "colab": {
          "base_uri": "https://localhost:8080/",
          "height": 527
        },
        "id": "xEFGVbMVUN7f",
        "outputId": "f5761d97-3375-4b8b-e8bd-dfeccd7dfc06"
      },
      "source": [
        "app_data.groupby(['name','time']).sum()"
      ],
      "execution_count": null,
      "outputs": [
        {
          "output_type": "error",
          "ename": "KeyError",
          "evalue": "ignored",
          "traceback": [
            "\u001b[0;31m---------------------------------------------------------------------------\u001b[0m",
            "\u001b[0;31mKeyError\u001b[0m                                  Traceback (most recent call last)",
            "\u001b[0;32m/usr/local/lib/python3.7/dist-packages/pandas/core/indexes/base.py\u001b[0m in \u001b[0;36mget_loc\u001b[0;34m(self, key, method, tolerance)\u001b[0m\n\u001b[1;32m   2897\u001b[0m             \u001b[0;32mtry\u001b[0m\u001b[0;34m:\u001b[0m\u001b[0;34m\u001b[0m\u001b[0;34m\u001b[0m\u001b[0m\n\u001b[0;32m-> 2898\u001b[0;31m                 \u001b[0;32mreturn\u001b[0m \u001b[0mself\u001b[0m\u001b[0;34m.\u001b[0m\u001b[0m_engine\u001b[0m\u001b[0;34m.\u001b[0m\u001b[0mget_loc\u001b[0m\u001b[0;34m(\u001b[0m\u001b[0mcasted_key\u001b[0m\u001b[0;34m)\u001b[0m\u001b[0;34m\u001b[0m\u001b[0;34m\u001b[0m\u001b[0m\n\u001b[0m\u001b[1;32m   2899\u001b[0m             \u001b[0;32mexcept\u001b[0m \u001b[0mKeyError\u001b[0m \u001b[0;32mas\u001b[0m \u001b[0merr\u001b[0m\u001b[0;34m:\u001b[0m\u001b[0;34m\u001b[0m\u001b[0;34m\u001b[0m\u001b[0m\n",
            "\u001b[0;32mpandas/_libs/index.pyx\u001b[0m in \u001b[0;36mpandas._libs.index.IndexEngine.get_loc\u001b[0;34m()\u001b[0m\n",
            "\u001b[0;32mpandas/_libs/index.pyx\u001b[0m in \u001b[0;36mpandas._libs.index.IndexEngine.get_loc\u001b[0;34m()\u001b[0m\n",
            "\u001b[0;32mpandas/_libs/index_class_helper.pxi\u001b[0m in \u001b[0;36mpandas._libs.index.Int64Engine._check_type\u001b[0;34m()\u001b[0m\n",
            "\u001b[0;31mKeyError\u001b[0m: 'instagram'",
            "\nThe above exception was the direct cause of the following exception:\n",
            "\u001b[0;31mKeyError\u001b[0m                                  Traceback (most recent call last)",
            "\u001b[0;32m<ipython-input-127-ae6283b7928a>\u001b[0m in \u001b[0;36m<module>\u001b[0;34m()\u001b[0m\n\u001b[0;32m----> 1\u001b[0;31m \u001b[0mapp_data\u001b[0m\u001b[0;34m.\u001b[0m\u001b[0mname\u001b[0m\u001b[0;34m[\u001b[0m\u001b[0;34m'instagram'\u001b[0m\u001b[0;34m]\u001b[0m\u001b[0;34m.\u001b[0m\u001b[0mgroupby\u001b[0m\u001b[0;34m(\u001b[0m\u001b[0;34m[\u001b[0m\u001b[0;34m'name'\u001b[0m\u001b[0;34m,\u001b[0m\u001b[0;34m'time'\u001b[0m\u001b[0;34m]\u001b[0m\u001b[0;34m)\u001b[0m\u001b[0;34m.\u001b[0m\u001b[0msum\u001b[0m\u001b[0;34m(\u001b[0m\u001b[0;34m)\u001b[0m\u001b[0;34m\u001b[0m\u001b[0;34m\u001b[0m\u001b[0m\n\u001b[0m",
            "\u001b[0;32m/usr/local/lib/python3.7/dist-packages/pandas/core/series.py\u001b[0m in \u001b[0;36m__getitem__\u001b[0;34m(self, key)\u001b[0m\n\u001b[1;32m    880\u001b[0m \u001b[0;34m\u001b[0m\u001b[0m\n\u001b[1;32m    881\u001b[0m         \u001b[0;32melif\u001b[0m \u001b[0mkey_is_scalar\u001b[0m\u001b[0;34m:\u001b[0m\u001b[0;34m\u001b[0m\u001b[0;34m\u001b[0m\u001b[0m\n\u001b[0;32m--> 882\u001b[0;31m             \u001b[0;32mreturn\u001b[0m \u001b[0mself\u001b[0m\u001b[0;34m.\u001b[0m\u001b[0m_get_value\u001b[0m\u001b[0;34m(\u001b[0m\u001b[0mkey\u001b[0m\u001b[0;34m)\u001b[0m\u001b[0;34m\u001b[0m\u001b[0;34m\u001b[0m\u001b[0m\n\u001b[0m\u001b[1;32m    883\u001b[0m \u001b[0;34m\u001b[0m\u001b[0m\n\u001b[1;32m    884\u001b[0m         \u001b[0;32mif\u001b[0m \u001b[0mis_hashable\u001b[0m\u001b[0;34m(\u001b[0m\u001b[0mkey\u001b[0m\u001b[0;34m)\u001b[0m\u001b[0;34m:\u001b[0m\u001b[0;34m\u001b[0m\u001b[0;34m\u001b[0m\u001b[0m\n",
            "\u001b[0;32m/usr/local/lib/python3.7/dist-packages/pandas/core/series.py\u001b[0m in \u001b[0;36m_get_value\u001b[0;34m(self, label, takeable)\u001b[0m\n\u001b[1;32m    988\u001b[0m \u001b[0;34m\u001b[0m\u001b[0m\n\u001b[1;32m    989\u001b[0m         \u001b[0;31m# Similar to Index.get_value, but we do not fall back to positional\u001b[0m\u001b[0;34m\u001b[0m\u001b[0;34m\u001b[0m\u001b[0;34m\u001b[0m\u001b[0m\n\u001b[0;32m--> 990\u001b[0;31m         \u001b[0mloc\u001b[0m \u001b[0;34m=\u001b[0m \u001b[0mself\u001b[0m\u001b[0;34m.\u001b[0m\u001b[0mindex\u001b[0m\u001b[0;34m.\u001b[0m\u001b[0mget_loc\u001b[0m\u001b[0;34m(\u001b[0m\u001b[0mlabel\u001b[0m\u001b[0;34m)\u001b[0m\u001b[0;34m\u001b[0m\u001b[0;34m\u001b[0m\u001b[0m\n\u001b[0m\u001b[1;32m    991\u001b[0m         \u001b[0;32mreturn\u001b[0m \u001b[0mself\u001b[0m\u001b[0;34m.\u001b[0m\u001b[0mindex\u001b[0m\u001b[0;34m.\u001b[0m\u001b[0m_get_values_for_loc\u001b[0m\u001b[0;34m(\u001b[0m\u001b[0mself\u001b[0m\u001b[0;34m,\u001b[0m \u001b[0mloc\u001b[0m\u001b[0;34m,\u001b[0m \u001b[0mlabel\u001b[0m\u001b[0;34m)\u001b[0m\u001b[0;34m\u001b[0m\u001b[0;34m\u001b[0m\u001b[0m\n\u001b[1;32m    992\u001b[0m \u001b[0;34m\u001b[0m\u001b[0m\n",
            "\u001b[0;32m/usr/local/lib/python3.7/dist-packages/pandas/core/indexes/base.py\u001b[0m in \u001b[0;36mget_loc\u001b[0;34m(self, key, method, tolerance)\u001b[0m\n\u001b[1;32m   2898\u001b[0m                 \u001b[0;32mreturn\u001b[0m \u001b[0mself\u001b[0m\u001b[0;34m.\u001b[0m\u001b[0m_engine\u001b[0m\u001b[0;34m.\u001b[0m\u001b[0mget_loc\u001b[0m\u001b[0;34m(\u001b[0m\u001b[0mcasted_key\u001b[0m\u001b[0;34m)\u001b[0m\u001b[0;34m\u001b[0m\u001b[0;34m\u001b[0m\u001b[0m\n\u001b[1;32m   2899\u001b[0m             \u001b[0;32mexcept\u001b[0m \u001b[0mKeyError\u001b[0m \u001b[0;32mas\u001b[0m \u001b[0merr\u001b[0m\u001b[0;34m:\u001b[0m\u001b[0;34m\u001b[0m\u001b[0;34m\u001b[0m\u001b[0m\n\u001b[0;32m-> 2900\u001b[0;31m                 \u001b[0;32mraise\u001b[0m \u001b[0mKeyError\u001b[0m\u001b[0;34m(\u001b[0m\u001b[0mkey\u001b[0m\u001b[0;34m)\u001b[0m \u001b[0;32mfrom\u001b[0m \u001b[0merr\u001b[0m\u001b[0;34m\u001b[0m\u001b[0;34m\u001b[0m\u001b[0m\n\u001b[0m\u001b[1;32m   2901\u001b[0m \u001b[0;34m\u001b[0m\u001b[0m\n\u001b[1;32m   2902\u001b[0m         \u001b[0;32mif\u001b[0m \u001b[0mtolerance\u001b[0m \u001b[0;32mis\u001b[0m \u001b[0;32mnot\u001b[0m \u001b[0;32mNone\u001b[0m\u001b[0;34m:\u001b[0m\u001b[0;34m\u001b[0m\u001b[0;34m\u001b[0m\u001b[0m\n",
            "\u001b[0;31mKeyError\u001b[0m: 'instagram'"
          ]
        }
      ]
    },
    {
      "cell_type": "code",
      "metadata": {
        "colab": {
          "base_uri": "https://localhost:8080/"
        },
        "id": "_Eu71VuoWnEF",
        "outputId": "d27951dc-6e81-4372-a1c6-67b9a9b766ef"
      },
      "source": [
        "k.max()"
      ],
      "execution_count": null,
      "outputs": [
        {
          "output_type": "execute_result",
          "data": {
            "text/plain": [
              "time    5171828948187063\n",
              "dtype: int64"
            ]
          },
          "metadata": {},
          "execution_count": 118
        }
      ]
    },
    {
      "cell_type": "code",
      "metadata": {
        "id": "2sI4uVY0WhGc"
      },
      "source": [
        "nanos = 37505999991577\n",
        "secs = nanos / 1e9"
      ],
      "execution_count": null,
      "outputs": []
    },
    {
      "cell_type": "code",
      "metadata": {
        "colab": {
          "base_uri": "https://localhost:8080/"
        },
        "id": "yT1A4k0PaCx3",
        "outputId": "21306fb5-6d9c-46b7-c2b4-946e00ed6a7f"
      },
      "source": [
        "secs/3600"
      ],
      "execution_count": null,
      "outputs": [
        {
          "output_type": "execute_result",
          "data": {
            "text/plain": [
              "10.418333330993612"
            ]
          },
          "metadata": {},
          "execution_count": 124
        }
      ]
    },
    {
      "cell_type": "markdown",
      "metadata": {
        "id": "KGGQSkFGCEr4"
      },
      "source": [
        "### Notification_data"
      ]
    },
    {
      "cell_type": "code",
      "metadata": {
        "id": "AWa2eYJ-CmbH"
      },
      "source": [
        "from pathlib import Path\n",
        "\n",
        "# Find all the folders\n",
        "root_dir = Path('/content/gdrive/MyDrive/fd249093-60d2-4d4f-99d0-3e98954f7711')\n",
        "folders = [fld for fld in root_dir.iterdir() if fld.is_dir()]\n",
        "\n",
        "# Find all the file names\n",
        "all_filenames = []\n",
        "for fld in folders:\n",
        "    for f in fld.glob('*notification_data.txt'):\n",
        "        all_filenames.append(f.name)"
      ],
      "execution_count": 6,
      "outputs": []
    },
    {
      "cell_type": "code",
      "metadata": {
        "colab": {
          "base_uri": "https://localhost:8080/"
        },
        "id": "cGfynLGTCw__",
        "outputId": "fb73be46-8aa3-4a16-bc22-37cf9d222391"
      },
      "source": [
        "all_filenames"
      ],
      "execution_count": 7,
      "outputs": [
        {
          "output_type": "execute_result",
          "data": {
            "text/plain": [
              "['notification_data.txt',\n",
              " 'notification_data.txt',\n",
              " 'notification_data.txt',\n",
              " 'notification_data.txt',\n",
              " 'notification_data.txt',\n",
              " 'notification_data.txt',\n",
              " 'notification_data.txt',\n",
              " 'notification_data.txt',\n",
              " 'notification_data.txt',\n",
              " 'notification_data.txt',\n",
              " 'notification_data.txt',\n",
              " 'notification_data.txt',\n",
              " 'notification_data.txt',\n",
              " 'notification_data.txt',\n",
              " 'notification_data.txt',\n",
              " 'notification_data.txt',\n",
              " 'notification_data.txt',\n",
              " 'notification_data.txt',\n",
              " 'notification_data.txt',\n",
              " 'notification_data.txt',\n",
              " 'notification_data.txt',\n",
              " 'notification_data.txt',\n",
              " 'notification_data.txt',\n",
              " 'notification_data.txt',\n",
              " 'notification_data.txt',\n",
              " 'notification_data.txt',\n",
              " 'notification_data.txt',\n",
              " 'notification_data.txt',\n",
              " 'notification_data.txt',\n",
              " 'notification_data.txt',\n",
              " 'notification_data.txt',\n",
              " 'notification_data.txt',\n",
              " 'notification_data.txt',\n",
              " 'notification_data.txt',\n",
              " 'notification_data.txt',\n",
              " 'notification_data.txt',\n",
              " 'notification_data.txt',\n",
              " 'notification_data.txt',\n",
              " 'notification_data.txt',\n",
              " 'notification_data.txt',\n",
              " 'notification_data.txt',\n",
              " 'notification_data.txt']"
            ]
          },
          "metadata": {},
          "execution_count": 7
        }
      ]
    },
    {
      "cell_type": "code",
      "metadata": {
        "id": "eeWcM0ubCyKU"
      },
      "source": [
        "# Open and load the file  \n",
        "for f in list(set(all_filenames)):\n",
        "    noti_data = pd.DataFrame({}) # An empty dataframe\n",
        "\n",
        "    for fld in folders:\n",
        "        if (fld / f).is_file():\n",
        "           with open(fld /f, 'r') as fp:\n",
        "            data =  json.load(fp)[\"notification_data\"] \n",
        "            temp_df = pd.DataFrame(data)\n",
        "            noti_data = noti_data.append(temp_df,ignore_index=True)           "
      ],
      "execution_count": 11,
      "outputs": []
    },
    {
      "cell_type": "code",
      "metadata": {
        "id": "y5VvadiYF7RD"
      },
      "source": [
        "# Sort the values by timeDate\n",
        "noti_data = noti_data.sort_values(by=['timeDate'],ignore_index=True)"
      ],
      "execution_count": 17,
      "outputs": []
    },
    {
      "cell_type": "code",
      "metadata": {
        "colab": {
          "base_uri": "https://localhost:8080/",
          "height": 419
        },
        "id": "99rw8YXYDLEl",
        "outputId": "027de2f4-c375-4ace-8ee3-d876f639978e"
      },
      "source": [
        "# Notification_data\n",
        "noti_data"
      ],
      "execution_count": 18,
      "outputs": [
        {
          "output_type": "execute_result",
          "data": {
            "text/html": [
              "<div>\n",
              "<style scoped>\n",
              "    .dataframe tbody tr th:only-of-type {\n",
              "        vertical-align: middle;\n",
              "    }\n",
              "\n",
              "    .dataframe tbody tr th {\n",
              "        vertical-align: top;\n",
              "    }\n",
              "\n",
              "    .dataframe thead th {\n",
              "        text-align: right;\n",
              "    }\n",
              "</style>\n",
              "<table border=\"1\" class=\"dataframe\">\n",
              "  <thead>\n",
              "    <tr style=\"text-align: right;\">\n",
              "      <th></th>\n",
              "      <th>event</th>\n",
              "      <th>package</th>\n",
              "      <th>category</th>\n",
              "      <th>tag</th>\n",
              "      <th>id</th>\n",
              "      <th>isOngoing</th>\n",
              "      <th>time</th>\n",
              "      <th>timeDate</th>\n",
              "      <th>timeSensor</th>\n",
              "    </tr>\n",
              "  </thead>\n",
              "  <tbody>\n",
              "    <tr>\n",
              "      <th>0</th>\n",
              "      <td>posted</td>\n",
              "      <td>ch.ethz.inf.vs.staals.visualattentionrecorder</td>\n",
              "      <td>None</td>\n",
              "      <td>None</td>\n",
              "      <td>1001</td>\n",
              "      <td>True</td>\n",
              "      <td>453837136395480</td>\n",
              "      <td>09.08.2019 00:19:03.578</td>\n",
              "      <td>1565302743491</td>\n",
              "    </tr>\n",
              "    <tr>\n",
              "      <th>1</th>\n",
              "      <td>posted</td>\n",
              "      <td>ch.ethz.inf.vs.staals.visualattentionrecorder</td>\n",
              "      <td>None</td>\n",
              "      <td>ranker_group1</td>\n",
              "      <td>2147483647</td>\n",
              "      <td>False</td>\n",
              "      <td>453837137382980</td>\n",
              "      <td>09.08.2019 00:19:03.579</td>\n",
              "      <td>1565302743571</td>\n",
              "    </tr>\n",
              "    <tr>\n",
              "      <th>2</th>\n",
              "      <td>posted</td>\n",
              "      <td>ch.ethz.inf.vs.staals.visualattentionrecorder</td>\n",
              "      <td>None</td>\n",
              "      <td>None</td>\n",
              "      <td>1002</td>\n",
              "      <td>True</td>\n",
              "      <td>453837136927251</td>\n",
              "      <td>09.08.2019 00:19:03.579</td>\n",
              "      <td>1565302743543</td>\n",
              "    </tr>\n",
              "    <tr>\n",
              "      <th>3</th>\n",
              "      <td>posted</td>\n",
              "      <td>ch.ethz.inf.vs.staals.visualattentionrecorder</td>\n",
              "      <td>None</td>\n",
              "      <td>None</td>\n",
              "      <td>5475</td>\n",
              "      <td>False</td>\n",
              "      <td>453837348988709</td>\n",
              "      <td>09.08.2019 00:19:03.791</td>\n",
              "      <td>1565302743782</td>\n",
              "    </tr>\n",
              "    <tr>\n",
              "      <th>4</th>\n",
              "      <td>posted</td>\n",
              "      <td>ch.ethz.inf.vs.staals.visualattentionrecorder</td>\n",
              "      <td>None</td>\n",
              "      <td>None</td>\n",
              "      <td>5475</td>\n",
              "      <td>False</td>\n",
              "      <td>453838074853292</td>\n",
              "      <td>09.08.2019 00:19:04.517</td>\n",
              "      <td>1565302744496</td>\n",
              "    </tr>\n",
              "    <tr>\n",
              "      <th>...</th>\n",
              "      <td>...</td>\n",
              "      <td>...</td>\n",
              "      <td>...</td>\n",
              "      <td>...</td>\n",
              "      <td>...</td>\n",
              "      <td>...</td>\n",
              "      <td>...</td>\n",
              "      <td>...</td>\n",
              "      <td>...</td>\n",
              "    </tr>\n",
              "    <tr>\n",
              "      <th>2099</th>\n",
              "      <td>posted</td>\n",
              "      <td>ch.ethz.inf.vs.staals.visualattentionrecorder</td>\n",
              "      <td>None</td>\n",
              "      <td>None</td>\n",
              "      <td>1001</td>\n",
              "      <td>True</td>\n",
              "      <td>331705865280230</td>\n",
              "      <td>13.08.2019 22:37:13.789</td>\n",
              "      <td>1565728633777</td>\n",
              "    </tr>\n",
              "    <tr>\n",
              "      <th>2100</th>\n",
              "      <td>posted</td>\n",
              "      <td>com.huawei.systemmanager</td>\n",
              "      <td>None</td>\n",
              "      <td>None</td>\n",
              "      <td>1074741825</td>\n",
              "      <td>False</td>\n",
              "      <td>331738181584912</td>\n",
              "      <td>13.08.2019 22:37:46.106</td>\n",
              "      <td>1565728666089</td>\n",
              "    </tr>\n",
              "    <tr>\n",
              "      <th>2101</th>\n",
              "      <td>posted</td>\n",
              "      <td>com.huawei.systemmanager</td>\n",
              "      <td>None</td>\n",
              "      <td>None</td>\n",
              "      <td>1074741825</td>\n",
              "      <td>False</td>\n",
              "      <td>331922511581759</td>\n",
              "      <td>13.08.2019 22:40:50.436</td>\n",
              "      <td>1565728850412</td>\n",
              "    </tr>\n",
              "    <tr>\n",
              "      <th>2102</th>\n",
              "      <td>posted</td>\n",
              "      <td>com.huawei.systemmanager</td>\n",
              "      <td>None</td>\n",
              "      <td>None</td>\n",
              "      <td>1074241823</td>\n",
              "      <td>False</td>\n",
              "      <td>332028307559347</td>\n",
              "      <td>13.08.2019 22:42:36.232</td>\n",
              "      <td>1565728956213</td>\n",
              "    </tr>\n",
              "    <tr>\n",
              "      <th>2103</th>\n",
              "      <td>posted</td>\n",
              "      <td>com.huawei.systemmanager</td>\n",
              "      <td>None</td>\n",
              "      <td>ranker_group1</td>\n",
              "      <td>2147483647</td>\n",
              "      <td>False</td>\n",
              "      <td>332028314269243</td>\n",
              "      <td>13.08.2019 22:42:36.238</td>\n",
              "      <td>1565728956230</td>\n",
              "    </tr>\n",
              "  </tbody>\n",
              "</table>\n",
              "<p>2104 rows × 9 columns</p>\n",
              "</div>"
            ],
            "text/plain": [
              "       event  ...     timeSensor\n",
              "0     posted  ...  1565302743491\n",
              "1     posted  ...  1565302743571\n",
              "2     posted  ...  1565302743543\n",
              "3     posted  ...  1565302743782\n",
              "4     posted  ...  1565302744496\n",
              "...      ...  ...            ...\n",
              "2099  posted  ...  1565728633777\n",
              "2100  posted  ...  1565728666089\n",
              "2101  posted  ...  1565728850412\n",
              "2102  posted  ...  1565728956213\n",
              "2103  posted  ...  1565728956230\n",
              "\n",
              "[2104 rows x 9 columns]"
            ]
          },
          "metadata": {},
          "execution_count": 18
        }
      ]
    },
    {
      "cell_type": "code",
      "metadata": {
        "colab": {
          "base_uri": "https://localhost:8080/"
        },
        "id": "AjePM8nCDL_S",
        "outputId": "db118dfc-24f4-408b-a3fe-feff66c40232"
      },
      "source": [
        "noti_data.info()"
      ],
      "execution_count": 19,
      "outputs": [
        {
          "output_type": "stream",
          "name": "stdout",
          "text": [
            "<class 'pandas.core.frame.DataFrame'>\n",
            "RangeIndex: 2104 entries, 0 to 2103\n",
            "Data columns (total 9 columns):\n",
            " #   Column      Non-Null Count  Dtype \n",
            "---  ------      --------------  ----- \n",
            " 0   event       2104 non-null   object\n",
            " 1   package     2104 non-null   object\n",
            " 2   category    23 non-null     object\n",
            " 3   tag         48 non-null     object\n",
            " 4   id          2104 non-null   int64 \n",
            " 5   isOngoing   2104 non-null   bool  \n",
            " 6   time        2104 non-null   int64 \n",
            " 7   timeDate    2104 non-null   object\n",
            " 8   timeSensor  2104 non-null   int64 \n",
            "dtypes: bool(1), int64(3), object(5)\n",
            "memory usage: 133.7+ KB\n"
          ]
        }
      ]
    },
    {
      "cell_type": "code",
      "metadata": {
        "colab": {
          "base_uri": "https://localhost:8080/",
          "height": 329
        },
        "id": "OVyynrFWFd5R",
        "outputId": "0dfe049e-6496-4cbe-fac2-91fb006039ff"
      },
      "source": [
        "# Total null values in the notification data\n",
        "noti_data.isna().sum().sort_values(ascending = False).plot(kind='bar')"
      ],
      "execution_count": 27,
      "outputs": [
        {
          "output_type": "execute_result",
          "data": {
            "text/plain": [
              "<matplotlib.axes._subplots.AxesSubplot at 0x7f9b69a1cad0>"
            ]
          },
          "metadata": {},
          "execution_count": 27
        },
        {
          "output_type": "display_data",
          "data": {
            "image/png": "[encoded data removed]",
            "text/plain": [
              "<Figure size 432x288 with 1 Axes>"
            ]
          },
          "metadata": {
            "needs_background": "light"
          }
        }
      ]
    },
    {
      "cell_type": "markdown",
      "metadata": {
        "id": "Uzee83dqGvRz"
      },
      "source": [
        "     - There are too many null values in 'category' and 'tag' columns"
      ]
    },
    {
      "cell_type": "code",
      "metadata": {
        "colab": {
          "base_uri": "https://localhost:8080/"
        },
        "id": "HsGdNkOeJUjL",
        "outputId": "9b91e306-1dc4-4b5d-c5d2-1845160baaab"
      },
      "source": [
        "# Category Values\n",
        "category_names = noti_data.category.unique()\n",
        "category_names"
      ],
      "execution_count": 33,
      "outputs": [
        {
          "output_type": "execute_result",
          "data": {
            "text/plain": [
              "array([None, 'email', 'msg'], dtype=object)"
            ]
          },
          "metadata": {},
          "execution_count": 33
        }
      ]
    },
    {
      "cell_type": "code",
      "metadata": {
        "colab": {
          "base_uri": "https://localhost:8080/"
        },
        "id": "hY1WWmu6Inpz",
        "outputId": "91a71d42-7054-403b-ba5a-dc1dc6669a98"
      },
      "source": [
        "# Tag values\n",
        "tag_names = noti_data.tag.unique()\n",
        "tag_names"
      ],
      "execution_count": 35,
      "outputs": [
        {
          "output_type": "execute_result",
          "data": {
            "text/plain": [
              "array([None, 'ranker_group1', 'gig:-2138516909:^sq_ig_i_personal',\n",
              "       'c3Rvcnk6MTE0MjIwNTg0MToxNTY1MzMxMzY1ODI4NjkwOjQ1MTc2MTcxMTUyNjY4Nw==',\n",
              "       '41794788832-1546541104@g.us', '41794788832@s.whatsapp.net',\n",
              "       'direct|184547055;thread_id:340282366841710300949128114516987833340',\n",
              "       '41795488404-1561203818@g.us', '41795488404-1360854648@g.us',\n",
              "       'c3Rvcnk6MTE0MjIwNTg0MToxNTY1NjAxMzI4MDI1MTE3OjQ1MTc2MTcxMTUyNjY4Nw==',\n",
              "       '447515352863-1443182763@g.us',\n",
              "       'direct|184547055;thread_id:3645421029678305852036639462'],\n",
              "      dtype=object)"
            ]
          },
          "metadata": {},
          "execution_count": 35
        }
      ]
    },
    {
      "cell_type": "code",
      "metadata": {
        "colab": {
          "base_uri": "https://localhost:8080/"
        },
        "id": "SwHqHVELJ5dn",
        "outputId": "6f740128-2fe7-4492-b2e3-e2907ec98ae8"
      },
      "source": [
        "noti_data.package.describe()"
      ],
      "execution_count": 37,
      "outputs": [
        {
          "output_type": "execute_result",
          "data": {
            "text/plain": [
              "count                                              2104\n",
              "unique                                               12\n",
              "top       ch.ethz.inf.vs.staals.visualattentionrecorder\n",
              "freq                                               1939\n",
              "Name: package, dtype: object"
            ]
          },
          "metadata": {},
          "execution_count": 37
        }
      ]
    },
    {
      "cell_type": "code",
      "metadata": {
        "id": "warLmlZgKHvw"
      },
      "source": [
        "# Exclude the notification data from android launcher, and attention recorder app\n",
        "mask = noti_data['package'].isin(['com.huawei.android.launcher', 'ch.ethz.inf.vs.staals.visualattentionrecorder'])\n",
        "noti_data = noti_data[~mask]"
      ],
      "execution_count": 38,
      "outputs": []
    },
    {
      "cell_type": "code",
      "metadata": {
        "colab": {
          "base_uri": "https://localhost:8080/",
          "height": 609
        },
        "id": "XxdYq5VDKqr5",
        "outputId": "f90e31de-769b-40b7-896c-5197094621b7"
      },
      "source": [
        "noti_data"
      ],
      "execution_count": 39,
      "outputs": [
        {
          "output_type": "execute_result",
          "data": {
            "text/html": [
              "<div>\n",
              "<style scoped>\n",
              "    .dataframe tbody tr th:only-of-type {\n",
              "        vertical-align: middle;\n",
              "    }\n",
              "\n",
              "    .dataframe tbody tr th {\n",
              "        vertical-align: top;\n",
              "    }\n",
              "\n",
              "    .dataframe thead th {\n",
              "        text-align: right;\n",
              "    }\n",
              "</style>\n",
              "<table border=\"1\" class=\"dataframe\">\n",
              "  <thead>\n",
              "    <tr style=\"text-align: right;\">\n",
              "      <th></th>\n",
              "      <th>event</th>\n",
              "      <th>package</th>\n",
              "      <th>category</th>\n",
              "      <th>tag</th>\n",
              "      <th>id</th>\n",
              "      <th>isOngoing</th>\n",
              "      <th>time</th>\n",
              "      <th>timeDate</th>\n",
              "      <th>timeSensor</th>\n",
              "    </tr>\n",
              "  </thead>\n",
              "  <tbody>\n",
              "    <tr>\n",
              "      <th>13</th>\n",
              "      <td>removed</td>\n",
              "      <td>com.google.android.gm</td>\n",
              "      <td>email</td>\n",
              "      <td>gig:-2138516909:^sq_ig_i_personal</td>\n",
              "      <td>0</td>\n",
              "      <td>False</td>\n",
              "      <td>482091855790155</td>\n",
              "      <td>09.08.2019 08:10:01.004</td>\n",
              "      <td>1565329237752</td>\n",
              "    </tr>\n",
              "    <tr>\n",
              "      <th>14</th>\n",
              "      <td>removed</td>\n",
              "      <td>com.google.android.gm</td>\n",
              "      <td>email</td>\n",
              "      <td>gig:-2138516909:^sq_ig_i_personal</td>\n",
              "      <td>-448777350</td>\n",
              "      <td>False</td>\n",
              "      <td>482091858480259</td>\n",
              "      <td>09.08.2019 08:10:01.006</td>\n",
              "      <td>1565329237768</td>\n",
              "    </tr>\n",
              "    <tr>\n",
              "      <th>15</th>\n",
              "      <td>posted</td>\n",
              "      <td>com.facebook.katana</td>\n",
              "      <td>None</td>\n",
              "      <td>c3Rvcnk6MTE0MjIwNTg0MToxNTY1MzMxMzY1ODI4NjkwOj...</td>\n",
              "      <td>0</td>\n",
              "      <td>False</td>\n",
              "      <td>482456632043223</td>\n",
              "      <td>09.08.2019 08:16:06.074</td>\n",
              "      <td>1565331366045</td>\n",
              "    </tr>\n",
              "    <tr>\n",
              "      <th>16</th>\n",
              "      <td>removed</td>\n",
              "      <td>com.facebook.katana</td>\n",
              "      <td>None</td>\n",
              "      <td>c3Rvcnk6MTE0MjIwNTg0MToxNTY1MzMxMzY1ODI4NjkwOj...</td>\n",
              "      <td>0</td>\n",
              "      <td>False</td>\n",
              "      <td>482463885337493</td>\n",
              "      <td>09.08.2019 08:16:13.328</td>\n",
              "      <td>1565331366045</td>\n",
              "    </tr>\n",
              "    <tr>\n",
              "      <th>17</th>\n",
              "      <td>posted</td>\n",
              "      <td>com.huawei.systemmanager</td>\n",
              "      <td>None</td>\n",
              "      <td>None</td>\n",
              "      <td>1074241823</td>\n",
              "      <td>False</td>\n",
              "      <td>482640613415070</td>\n",
              "      <td>09.08.2019 08:19:10.056</td>\n",
              "      <td>1565331550025</td>\n",
              "    </tr>\n",
              "    <tr>\n",
              "      <th>...</th>\n",
              "      <td>...</td>\n",
              "      <td>...</td>\n",
              "      <td>...</td>\n",
              "      <td>...</td>\n",
              "      <td>...</td>\n",
              "      <td>...</td>\n",
              "      <td>...</td>\n",
              "      <td>...</td>\n",
              "      <td>...</td>\n",
              "    </tr>\n",
              "    <tr>\n",
              "      <th>2071</th>\n",
              "      <td>removed</td>\n",
              "      <td>com.huawei.contacts.sync</td>\n",
              "      <td>None</td>\n",
              "      <td>None</td>\n",
              "      <td>10000</td>\n",
              "      <td>True</td>\n",
              "      <td>308769787553282</td>\n",
              "      <td>13.08.2019 16:14:57.552</td>\n",
              "      <td>1565705697374</td>\n",
              "    </tr>\n",
              "    <tr>\n",
              "      <th>2100</th>\n",
              "      <td>posted</td>\n",
              "      <td>com.huawei.systemmanager</td>\n",
              "      <td>None</td>\n",
              "      <td>None</td>\n",
              "      <td>1074741825</td>\n",
              "      <td>False</td>\n",
              "      <td>331738181584912</td>\n",
              "      <td>13.08.2019 22:37:46.106</td>\n",
              "      <td>1565728666089</td>\n",
              "    </tr>\n",
              "    <tr>\n",
              "      <th>2101</th>\n",
              "      <td>posted</td>\n",
              "      <td>com.huawei.systemmanager</td>\n",
              "      <td>None</td>\n",
              "      <td>None</td>\n",
              "      <td>1074741825</td>\n",
              "      <td>False</td>\n",
              "      <td>331922511581759</td>\n",
              "      <td>13.08.2019 22:40:50.436</td>\n",
              "      <td>1565728850412</td>\n",
              "    </tr>\n",
              "    <tr>\n",
              "      <th>2102</th>\n",
              "      <td>posted</td>\n",
              "      <td>com.huawei.systemmanager</td>\n",
              "      <td>None</td>\n",
              "      <td>None</td>\n",
              "      <td>1074241823</td>\n",
              "      <td>False</td>\n",
              "      <td>332028307559347</td>\n",
              "      <td>13.08.2019 22:42:36.232</td>\n",
              "      <td>1565728956213</td>\n",
              "    </tr>\n",
              "    <tr>\n",
              "      <th>2103</th>\n",
              "      <td>posted</td>\n",
              "      <td>com.huawei.systemmanager</td>\n",
              "      <td>None</td>\n",
              "      <td>ranker_group1</td>\n",
              "      <td>2147483647</td>\n",
              "      <td>False</td>\n",
              "      <td>332028314269243</td>\n",
              "      <td>13.08.2019 22:42:36.238</td>\n",
              "      <td>1565728956230</td>\n",
              "    </tr>\n",
              "  </tbody>\n",
              "</table>\n",
              "<p>165 rows × 9 columns</p>\n",
              "</div>"
            ],
            "text/plain": [
              "        event                   package  ...                 timeDate     timeSensor\n",
              "13    removed     com.google.android.gm  ...  09.08.2019 08:10:01.004  1565329237752\n",
              "14    removed     com.google.android.gm  ...  09.08.2019 08:10:01.006  1565329237768\n",
              "15     posted       com.facebook.katana  ...  09.08.2019 08:16:06.074  1565331366045\n",
              "16    removed       com.facebook.katana  ...  09.08.2019 08:16:13.328  1565331366045\n",
              "17     posted  com.huawei.systemmanager  ...  09.08.2019 08:19:10.056  1565331550025\n",
              "...       ...                       ...  ...                      ...            ...\n",
              "2071  removed  com.huawei.contacts.sync  ...  13.08.2019 16:14:57.552  1565705697374\n",
              "2100   posted  com.huawei.systemmanager  ...  13.08.2019 22:37:46.106  1565728666089\n",
              "2101   posted  com.huawei.systemmanager  ...  13.08.2019 22:40:50.436  1565728850412\n",
              "2102   posted  com.huawei.systemmanager  ...  13.08.2019 22:42:36.232  1565728956213\n",
              "2103   posted  com.huawei.systemmanager  ...  13.08.2019 22:42:36.238  1565728956230\n",
              "\n",
              "[165 rows x 9 columns]"
            ]
          },
          "metadata": {},
          "execution_count": 39
        }
      ]
    },
    {
      "cell_type": "code",
      "metadata": {
        "colab": {
          "base_uri": "https://localhost:8080/"
        },
        "id": "Doo9foybKtnN",
        "outputId": "d47905a4-b4f0-4a62-8bc7-b741883e8c06"
      },
      "source": [
        "# Information about package column\n",
        "noti_data.package.describe()"
      ],
      "execution_count": 41,
      "outputs": [
        {
          "output_type": "execute_result",
          "data": {
            "text/plain": [
              "count              165\n",
              "unique              11\n",
              "top       com.whatsapp\n",
              "freq                64\n",
              "Name: package, dtype: object"
            ]
          },
          "metadata": {},
          "execution_count": 41
        }
      ]
    },
    {
      "cell_type": "code",
      "metadata": {
        "colab": {
          "base_uri": "https://localhost:8080/",
          "height": 417
        },
        "id": "2UNwxgvDMbNz",
        "outputId": "cf243047-026b-483f-97c9-20c25b2201f8"
      },
      "source": [
        "noti_data.package.value_counts().plot(kind = 'bar')"
      ],
      "execution_count": 48,
      "outputs": [
        {
          "output_type": "execute_result",
          "data": {
            "text/plain": [
              "<matplotlib.axes._subplots.AxesSubplot at 0x7f9b6365fe50>"
            ]
          },
          "metadata": {},
          "execution_count": 48
        },
        {
          "output_type": "display_data",
          "data": {
            "image/png": "[encoded data removed]",
            "text/plain": [
              "<Figure size 432x288 with 1 Axes>"
            ]
          },
          "metadata": {
            "needs_background": "light"
          }
        }
      ]
    },
    {
      "cell_type": "markdown",
      "metadata": {
        "id": "cBrHXHc6LmLp"
      },
      "source": [
        "     - There are 11 unique package's notification \n",
        "     - In which 'Whatsapp' is the highest one\n",
        "     - Deskclock is the second highest"
      ]
    },
    {
      "cell_type": "code",
      "metadata": {
        "colab": {
          "base_uri": "https://localhost:8080/"
        },
        "id": "x0PlTAj8MFZd",
        "outputId": "0bdea569-611e-4ddb-ccde-46b5bea5681c"
      },
      "source": [
        "# Information about event column\n",
        "noti_data.event.describe()"
      ],
      "execution_count": 49,
      "outputs": [
        {
          "output_type": "execute_result",
          "data": {
            "text/plain": [
              "count        165\n",
              "unique         2\n",
              "top       posted\n",
              "freq         135\n",
              "Name: event, dtype: object"
            ]
          },
          "metadata": {},
          "execution_count": 49
        }
      ]
    },
    {
      "cell_type": "code",
      "metadata": {
        "colab": {
          "base_uri": "https://localhost:8080/"
        },
        "id": "NMK_kGJyNjGX",
        "outputId": "fd77ed40-32c0-4465-f199-7929658dbaaa"
      },
      "source": [
        "# Information about category column\n",
        "noti_data.category.describe()"
      ],
      "execution_count": 50,
      "outputs": [
        {
          "output_type": "execute_result",
          "data": {
            "text/plain": [
              "count      23\n",
              "unique      2\n",
              "top       msg\n",
              "freq       21\n",
              "Name: category, dtype: object"
            ]
          },
          "metadata": {},
          "execution_count": 50
        }
      ]
    },
    {
      "cell_type": "code",
      "metadata": {
        "colab": {
          "base_uri": "https://localhost:8080/"
        },
        "id": "UGRI3skyN5hB",
        "outputId": "302ff5e1-4907-4fda-ba70-a8b5fa3801ed"
      },
      "source": [
        "noti_data.category.unique()"
      ],
      "execution_count": 51,
      "outputs": [
        {
          "output_type": "execute_result",
          "data": {
            "text/plain": [
              "array(['email', None, 'msg'], dtype=object)"
            ]
          },
          "metadata": {},
          "execution_count": 51
        }
      ]
    },
    {
      "cell_type": "code",
      "metadata": {
        "colab": {
          "base_uri": "https://localhost:8080/"
        },
        "id": "JiRtMc3pOBJ1",
        "outputId": "34c98721-f116-4768-ce98-f7bbb09eaa10"
      },
      "source": [
        "noti_data.category.value_counts()"
      ],
      "execution_count": 53,
      "outputs": [
        {
          "output_type": "execute_result",
          "data": {
            "text/plain": [
              "msg      21\n",
              "email     2\n",
              "Name: category, dtype: int64"
            ]
          },
          "metadata": {},
          "execution_count": 53
        }
      ]
    },
    {
      "cell_type": "markdown",
      "metadata": {
        "id": "QQbZogXxO8d8"
      },
      "source": [
        "### Device_data"
      ]
    },
    {
      "cell_type": "code",
      "metadata": {
        "id": "5IXo0Sz5OIoP"
      },
      "source": [
        "from pathlib import Path\n",
        "\n",
        "# Find all the folders\n",
        "root_dir = Path('/content/gdrive/MyDrive/fd249093-60d2-4d4f-99d0-3e98954f7711')\n",
        "folders = [fld for fld in root_dir.iterdir() if fld.is_dir()]\n",
        "\n",
        "# Find all the file names\n",
        "all_filenames = []\n",
        "for fld in folders:\n",
        "    for f in fld.glob('*device_data.txt'):\n",
        "        all_filenames.append(f.name)"
      ],
      "execution_count": 56,
      "outputs": []
    },
    {
      "cell_type": "code",
      "metadata": {
        "colab": {
          "base_uri": "https://localhost:8080/"
        },
        "id": "GOHukbO9Rua9",
        "outputId": "6c94a2a4-5cb1-4e59-d8ce-f545cf777ecf"
      },
      "source": [
        "len(all_filenames)"
      ],
      "execution_count": 58,
      "outputs": [
        {
          "output_type": "execute_result",
          "data": {
            "text/plain": [
              "42"
            ]
          },
          "metadata": {},
          "execution_count": 58
        }
      ]
    },
    {
      "cell_type": "code",
      "metadata": {
        "id": "cPW7o5GkRvbQ"
      },
      "source": [
        "# Open and load the file  \n",
        "for f in list(set(all_filenames)):\n",
        "    device_data = pd.DataFrame({}) # An empty dataframe\n",
        "\n",
        "    for fld in folders:\n",
        "        if (fld / f).is_file():\n",
        "           with open(fld /f, 'r') as fp:\n",
        "            data =  json.load(fp)[\"device_data\"] \n",
        "            temp_df = pd.DataFrame(data)\n",
        "            device_data = device_data.append(temp_df,ignore_index=True)           "
      ],
      "execution_count": 59,
      "outputs": []
    },
    {
      "cell_type": "code",
      "metadata": {
        "id": "Bm3YsjbjSKbT"
      },
      "source": [
        "# Sort the values by timeDate\n",
        "device_data = device_data.sort_values(by=['timeDate'],ignore_index=True)"
      ],
      "execution_count": 60,
      "outputs": []
    },
    {
      "cell_type": "code",
      "metadata": {
        "colab": {
          "base_uri": "https://localhost:8080/",
          "height": 419
        },
        "id": "6RyPxWXxSOUN",
        "outputId": "4fe91f6f-9f07-46e7-9386-e17374ce6eb9"
      },
      "source": [
        "device_data"
      ],
      "execution_count": 61,
      "outputs": [
        {
          "output_type": "execute_result",
          "data": {
            "text/html": [
              "<div>\n",
              "<style scoped>\n",
              "    .dataframe tbody tr th:only-of-type {\n",
              "        vertical-align: middle;\n",
              "    }\n",
              "\n",
              "    .dataframe tbody tr th {\n",
              "        vertical-align: top;\n",
              "    }\n",
              "\n",
              "    .dataframe thead th {\n",
              "        text-align: right;\n",
              "    }\n",
              "</style>\n",
              "<table border=\"1\" class=\"dataframe\">\n",
              "  <thead>\n",
              "    <tr style=\"text-align: right;\">\n",
              "      <th></th>\n",
              "      <th>event</th>\n",
              "      <th>val</th>\n",
              "      <th>time</th>\n",
              "      <th>timeDate</th>\n",
              "    </tr>\n",
              "  </thead>\n",
              "  <tbody>\n",
              "    <tr>\n",
              "      <th>0</th>\n",
              "      <td>ACTION_SCREEN_UNLOCKED</td>\n",
              "      <td>None</td>\n",
              "      <td>453837010685063</td>\n",
              "      <td>09.08.2019 00:19:03.453</td>\n",
              "    </tr>\n",
              "    <tr>\n",
              "      <th>1</th>\n",
              "      <td>ACTION_SCREEN_ON</td>\n",
              "      <td>None</td>\n",
              "      <td>453837011098605</td>\n",
              "      <td>09.08.2019 00:19:03.453</td>\n",
              "    </tr>\n",
              "    <tr>\n",
              "      <th>2</th>\n",
              "      <td>ACTION_USER_PRESENT</td>\n",
              "      <td>None</td>\n",
              "      <td>453837010982980</td>\n",
              "      <td>09.08.2019 00:19:03.453</td>\n",
              "    </tr>\n",
              "    <tr>\n",
              "      <th>3</th>\n",
              "      <td>ACTION_BATTERY_CHANGE</td>\n",
              "      <td>51</td>\n",
              "      <td>453837043091834</td>\n",
              "      <td>09.08.2019 00:19:03.485</td>\n",
              "    </tr>\n",
              "    <tr>\n",
              "      <th>4</th>\n",
              "      <td>BATTERY_STATUS_CHARGING</td>\n",
              "      <td>AC</td>\n",
              "      <td>453837043432980</td>\n",
              "      <td>09.08.2019 00:19:03.485</td>\n",
              "    </tr>\n",
              "    <tr>\n",
              "      <th>...</th>\n",
              "      <td>...</td>\n",
              "      <td>...</td>\n",
              "      <td>...</td>\n",
              "      <td>...</td>\n",
              "    </tr>\n",
              "    <tr>\n",
              "      <th>1977</th>\n",
              "      <td>ACTION_BRIGHTNESS_CHANGE</td>\n",
              "      <td>13</td>\n",
              "      <td>332024406521848</td>\n",
              "      <td>13.08.2019 22:42:32.331</td>\n",
              "    </tr>\n",
              "    <tr>\n",
              "      <th>1978</th>\n",
              "      <td>ACTION_BRIGHTNESS_CHANGE</td>\n",
              "      <td>12</td>\n",
              "      <td>332040695009866</td>\n",
              "      <td>13.08.2019 22:42:48.619</td>\n",
              "    </tr>\n",
              "    <tr>\n",
              "      <th>1979</th>\n",
              "      <td>ACTION_BRIGHTNESS_CHANGE</td>\n",
              "      <td>11</td>\n",
              "      <td>332043335108824</td>\n",
              "      <td>13.08.2019 22:42:51.259</td>\n",
              "    </tr>\n",
              "    <tr>\n",
              "      <th>1980</th>\n",
              "      <td>ACTION_BRIGHTNESS_CHANGE</td>\n",
              "      <td>10</td>\n",
              "      <td>332046471066115</td>\n",
              "      <td>13.08.2019 22:42:54.395</td>\n",
              "    </tr>\n",
              "    <tr>\n",
              "      <th>1981</th>\n",
              "      <td>ACTION_SCREEN_ORIENTATION_CHANGE</td>\n",
              "      <td>PORTRAIT</td>\n",
              "      <td>332065919229654</td>\n",
              "      <td>13.08.2019 22:43:13.843</td>\n",
              "    </tr>\n",
              "  </tbody>\n",
              "</table>\n",
              "<p>1982 rows × 4 columns</p>\n",
              "</div>"
            ],
            "text/plain": [
              "                                 event  ...                 timeDate\n",
              "0               ACTION_SCREEN_UNLOCKED  ...  09.08.2019 00:19:03.453\n",
              "1                     ACTION_SCREEN_ON  ...  09.08.2019 00:19:03.453\n",
              "2                  ACTION_USER_PRESENT  ...  09.08.2019 00:19:03.453\n",
              "3                ACTION_BATTERY_CHANGE  ...  09.08.2019 00:19:03.485\n",
              "4              BATTERY_STATUS_CHARGING  ...  09.08.2019 00:19:03.485\n",
              "...                                ...  ...                      ...\n",
              "1977          ACTION_BRIGHTNESS_CHANGE  ...  13.08.2019 22:42:32.331\n",
              "1978          ACTION_BRIGHTNESS_CHANGE  ...  13.08.2019 22:42:48.619\n",
              "1979          ACTION_BRIGHTNESS_CHANGE  ...  13.08.2019 22:42:51.259\n",
              "1980          ACTION_BRIGHTNESS_CHANGE  ...  13.08.2019 22:42:54.395\n",
              "1981  ACTION_SCREEN_ORIENTATION_CHANGE  ...  13.08.2019 22:43:13.843\n",
              "\n",
              "[1982 rows x 4 columns]"
            ]
          },
          "metadata": {},
          "execution_count": 61
        }
      ]
    },
    {
      "cell_type": "code",
      "metadata": {
        "colab": {
          "base_uri": "https://localhost:8080/"
        },
        "id": "MC1AsQkNSQCg",
        "outputId": "e4685df5-d07d-4077-de95-a4cfa26320ed"
      },
      "source": [
        "device_data.info()"
      ],
      "execution_count": 62,
      "outputs": [
        {
          "output_type": "stream",
          "name": "stdout",
          "text": [
            "<class 'pandas.core.frame.DataFrame'>\n",
            "RangeIndex: 1982 entries, 0 to 1981\n",
            "Data columns (total 4 columns):\n",
            " #   Column    Non-Null Count  Dtype \n",
            "---  ------    --------------  ----- \n",
            " 0   event     1982 non-null   object\n",
            " 1   val       1779 non-null   object\n",
            " 2   time      1982 non-null   int64 \n",
            " 3   timeDate  1982 non-null   object\n",
            "dtypes: int64(1), object(3)\n",
            "memory usage: 62.1+ KB\n"
          ]
        }
      ]
    },
    {
      "cell_type": "code",
      "metadata": {
        "colab": {
          "base_uri": "https://localhost:8080/"
        },
        "id": "z8f4m0isSghr",
        "outputId": "668554b1-8a70-437c-d148-cd15395eac5d"
      },
      "source": [
        "# Total null values in the device data\n",
        "device_data.isna().sum().sort_values(ascending = False)"
      ],
      "execution_count": 64,
      "outputs": [
        {
          "output_type": "execute_result",
          "data": {
            "text/plain": [
              "val         203\n",
              "timeDate      0\n",
              "time          0\n",
              "event         0\n",
              "dtype: int64"
            ]
          },
          "metadata": {},
          "execution_count": 64
        }
      ]
    },
    {
      "cell_type": "code",
      "metadata": {
        "colab": {
          "base_uri": "https://localhost:8080/"
        },
        "id": "quie4DgzSs9S",
        "outputId": "124a6d1a-4dc9-4d72-fe5d-361c16ca0fd4"
      },
      "source": [
        "# Column 'val'\n",
        "device_data.val.describe()"
      ],
      "execution_count": 66,
      "outputs": [
        {
          "output_type": "execute_result",
          "data": {
            "text/plain": [
              "count         1779\n",
              "unique         245\n",
              "top       PORTRAIT\n",
              "freq            49\n",
              "Name: val, dtype: object"
            ]
          },
          "metadata": {},
          "execution_count": 66
        }
      ]
    },
    {
      "cell_type": "markdown",
      "metadata": {
        "id": "ipm3Zkn6TijT"
      },
      "source": [
        "     - Portrait has the highest frequency in val column"
      ]
    },
    {
      "cell_type": "code",
      "metadata": {
        "colab": {
          "base_uri": "https://localhost:8080/"
        },
        "id": "opX6cmXfS2Oz",
        "outputId": "aed5dec8-f106-4fc9-a114-32e8fb193233"
      },
      "source": [
        "# Different values in val column\n",
        "device_data.val.unique()"
      ],
      "execution_count": 67,
      "outputs": [
        {
          "output_type": "execute_result",
          "data": {
            "text/plain": [
              "array([None, '51', 'AC', '9', 'AUTOMATIC', 'PORTRAIT',\n",
              "       '{\"current\":\"9\",\"max\":15}', '{\"current\":\"0\",\"max\":15}',\n",
              "       'MODE_NORMAL', 'RINGER_MODE_VIBRATE', 'WIFI_CONNECT', '52', '100',\n",
              "       '204', 'MOBILE_CONNECT', '203', '202', '200', '199', '198', '196',\n",
              "       '195', '193', '190', '186', '181', '177', '173',\n",
              "       '{\"current\":\"7\",\"max\":15}', '169', '{\"current\":\"6\",\"max\":15}',\n",
              "       '172', '{\"current\":\"5\",\"max\":15}', '178', '185', '191', '189',\n",
              "       '187', '184', '182', '180', '175', '171', '167', '165', '99', '87',\n",
              "       '63', '80', '68', '72', '77', '79', '78', '76', '75', '74', '71',\n",
              "       '69', '67', '65', '64', '62', '61', '59', '98', '60', '73',\n",
              "       '{\"current\":\"4\",\"max\":15}', '97', '95', 'LANDSCAPE', '174', '168',\n",
              "       '161', '154', '148', '143', '137', '131', '126', '121', '116',\n",
              "       '112', '107', '104', '136', '159', '166', '163', '160', '157',\n",
              "       '155', '152', '149', '147', '144', '142', '139', '145', '183',\n",
              "       '179', '176', '94', '164', '156', '141', '138', '134', '128',\n",
              "       '125', '122', '119', '117', '114', '110', '109', '105', '103',\n",
              "       '101', '96', '93', '92', '90', '113', '127', '102', '133', '130',\n",
              "       '120', '115', '108', '111', '162', '170', '158', '153', '146',\n",
              "       '140', '135', '132', '129', '151', '188', '205', '222', '223',\n",
              "       '219', '217', '214', '211', '209', '206', '201', '197', '194',\n",
              "       '192', '91', '213', '220', '218', '216', '208', '212', '221',\n",
              "       '224', '225', '226', '227', 'MOBILE_DISCONNECT', '89', '228',\n",
              "       '229', '230', '88', '150', '124', '106', '09.08.2019 08:58:42.067',\n",
              "       '09.08.2019 08:58:58.083', '86', '118', 'WIFI_DISCONNECT', '85',\n",
              "       '{\"current\":\"3\",\"max\":15}', '84', '83', '82', '81', '70',\n",
              "       '{\"current\":\"10\",\"max\":15}', '{\"current\":\"8\",\"max\":15}', '19',\n",
              "       '27', '30', '37', '45', '55', '58', '57', '56', '54', '53', '50',\n",
              "       '49', '48', '47', '46', '66', '44', '42', '41', '40', '39', '38',\n",
              "       '36', '35', '34', '33', '32', '123', '20', '22', '43', '31', '29',\n",
              "       '28', '26', '25', '23', '21', '18', '17', '24',\n",
              "       '{\"current\":\"12\",\"max\":15}', '674', '{\"current\":\"11\",\"max\":15}',\n",
              "       'USB', '713', '16', '15', '14', '13', '12', '11', '10'],\n",
              "      dtype=object)"
            ]
          },
          "metadata": {},
          "execution_count": 67
        }
      ]
    },
    {
      "cell_type": "code",
      "metadata": {
        "colab": {
          "base_uri": "https://localhost:8080/"
        },
        "id": "G8r7KWCiTDr7",
        "outputId": "a43343cd-1b9e-4077-968e-7bc486893c71"
      },
      "source": [
        "# Column 'event'\n",
        "device_data.event.describe()"
      ],
      "execution_count": 69,
      "outputs": [
        {
          "output_type": "execute_result",
          "data": {
            "text/plain": [
              "count                         1982\n",
              "unique                          21\n",
              "top       ACTION_BRIGHTNESS_CHANGE\n",
              "freq                          1250\n",
              "Name: event, dtype: object"
            ]
          },
          "metadata": {},
          "execution_count": 69
        }
      ]
    },
    {
      "cell_type": "code",
      "metadata": {
        "colab": {
          "base_uri": "https://localhost:8080/",
          "height": 525
        },
        "id": "NB7T2Z_gVDw2",
        "outputId": "2514ec64-c443-488c-a458-dd0807731737"
      },
      "source": [
        "device_data.groupby('event').event.count().plot(kind = 'bar')"
      ],
      "execution_count": 79,
      "outputs": [
        {
          "output_type": "execute_result",
          "data": {
            "text/plain": [
              "<matplotlib.axes._subplots.AxesSubplot at 0x7f9b630f3510>"
            ]
          },
          "metadata": {},
          "execution_count": 79
        },
        {
          "output_type": "display_data",
          "data": {
            "image/png": "[encoded data removed]",
            "text/plain": [
              "<Figure size 432x288 with 1 Axes>"
            ]
          },
          "metadata": {
            "needs_background": "light"
          }
        }
      ]
    },
    {
      "cell_type": "markdown",
      "metadata": {
        "id": "gIue3AzvUGXF"
      },
      "source": [
        "     - Brightness change has the highest frequency in the event column"
      ]
    },
    {
      "cell_type": "code",
      "metadata": {
        "colab": {
          "base_uri": "https://localhost:8080/"
        },
        "id": "KgxLwLzmT4yq",
        "outputId": "76d89148-7981-4869-9ef2-84b9cd21effb"
      },
      "source": [
        "# Name of the events\n",
        "device_data.event.unique()"
      ],
      "execution_count": 70,
      "outputs": [
        {
          "output_type": "execute_result",
          "data": {
            "text/plain": [
              "array(['ACTION_SCREEN_UNLOCKED', 'ACTION_SCREEN_ON',\n",
              "       'ACTION_USER_PRESENT', 'ACTION_BATTERY_CHANGE',\n",
              "       'BATTERY_STATUS_CHARGING', 'ACTION_BRIGHTNESS_CHANGE',\n",
              "       'ACTION_BRIGHTNESS_MODE_CHANGE',\n",
              "       'ACTION_SCREEN_ORIENTATION_CHANGE', 'ACTION_RING_VOLUME_CHANGE',\n",
              "       'ACTION_MUSIC_VOLUME_CHANGE', 'ACTION_NOTIFICATION_VOLUME_CHANGE',\n",
              "       'ACTION_AUDIO_MODE_CHANGE', 'ACTION_RINGER_MODE_CHANGED',\n",
              "       'ACTION_CONNECTIVITY', 'BATTERY_STATUS_NOT_CHARGING',\n",
              "       'ACTION_TIME_CHANGED', 'ACTION_SCREEN_LOCKED', 'ACTION_SCREEN_OFF',\n",
              "       'CONTINUE_RECORDING_DUE_LAST_SCREEN_ON', 'ACTION_POWER_CONNECTED',\n",
              "       'ACTION_POWER_DISCONNECTED'], dtype=object)"
            ]
          },
          "metadata": {},
          "execution_count": 70
        }
      ]
    },
    {
      "cell_type": "code",
      "metadata": {
        "colab": {
          "base_uri": "https://localhost:8080/",
          "height": 433
        },
        "id": "dEFBJ9xGUXRr",
        "outputId": "f83633fc-8ce9-48ac-cab5-37875f36cd9d"
      },
      "source": [
        "device_data.groupby(['event','val','time','timeDate']).count()"
      ],
      "execution_count": 78,
      "outputs": [
        {
          "output_type": "execute_result",
          "data": {
            "text/html": [
              "<div>\n",
              "<style scoped>\n",
              "    .dataframe tbody tr th:only-of-type {\n",
              "        vertical-align: middle;\n",
              "    }\n",
              "\n",
              "    .dataframe tbody tr th {\n",
              "        vertical-align: top;\n",
              "    }\n",
              "\n",
              "    .dataframe thead th {\n",
              "        text-align: right;\n",
              "    }\n",
              "</style>\n",
              "<table border=\"1\" class=\"dataframe\">\n",
              "  <thead>\n",
              "    <tr style=\"text-align: right;\">\n",
              "      <th></th>\n",
              "      <th></th>\n",
              "      <th></th>\n",
              "      <th></th>\n",
              "    </tr>\n",
              "    <tr>\n",
              "      <th>event</th>\n",
              "      <th>val</th>\n",
              "      <th>time</th>\n",
              "      <th>timeDate</th>\n",
              "    </tr>\n",
              "  </thead>\n",
              "  <tbody>\n",
              "    <tr>\n",
              "      <th rowspan=\"5\" valign=\"top\">ACTION_AUDIO_MODE_CHANGE</th>\n",
              "      <th rowspan=\"5\" valign=\"top\">MODE_NORMAL</th>\n",
              "      <th>18405456404664</th>\n",
              "      <th>10.08.2019 07:35:13.742</th>\n",
              "    </tr>\n",
              "    <tr>\n",
              "      <th>24956631685922</th>\n",
              "      <th>10.08.2019 09:24:24.917</th>\n",
              "    </tr>\n",
              "    <tr>\n",
              "      <th>25245887675461</th>\n",
              "      <th>10.08.2019 09:29:14.173</th>\n",
              "    </tr>\n",
              "    <tr>\n",
              "      <th>29458777693701</th>\n",
              "      <th>10.08.2019 10:39:27.063</th>\n",
              "    </tr>\n",
              "    <tr>\n",
              "      <th>29503634104631</th>\n",
              "      <th>10.08.2019 10:40:11.920</th>\n",
              "    </tr>\n",
              "    <tr>\n",
              "      <th>...</th>\n",
              "      <th>...</th>\n",
              "      <th>...</th>\n",
              "      <th>...</th>\n",
              "    </tr>\n",
              "    <tr>\n",
              "      <th>ACTION_TIME_CHANGED</th>\n",
              "      <th>09.08.2019 08:58:58.083</th>\n",
              "      <th>485028872702828</th>\n",
              "      <th>09.08.2019 08:58:58.083</th>\n",
              "    </tr>\n",
              "    <tr>\n",
              "      <th rowspan=\"2\" valign=\"top\">BATTERY_STATUS_CHARGING</th>\n",
              "      <th>AC</th>\n",
              "      <th>453837043432980</th>\n",
              "      <th>09.08.2019 00:19:03.485</th>\n",
              "    </tr>\n",
              "    <tr>\n",
              "      <th>USB</th>\n",
              "      <th>220695809997664</th>\n",
              "      <th>12.08.2019 15:46:57.151</th>\n",
              "    </tr>\n",
              "    <tr>\n",
              "      <th rowspan=\"2\" valign=\"top\">CONTINUE_RECORDING_DUE_LAST_SCREEN_ON</th>\n",
              "      <th>674</th>\n",
              "      <th>209352245773753</th>\n",
              "      <th>12.08.2019 12:37:49.333</th>\n",
              "    </tr>\n",
              "    <tr>\n",
              "      <th>713</th>\n",
              "      <th>221298955409551</th>\n",
              "      <th>12.08.2019 15:57:00.296</th>\n",
              "    </tr>\n",
              "  </tbody>\n",
              "</table>\n",
              "<p>1779 rows × 0 columns</p>\n",
              "</div>"
            ],
            "text/plain": [
              "Empty DataFrame\n",
              "Columns: []\n",
              "Index: [(ACTION_AUDIO_MODE_CHANGE, MODE_NORMAL, 18405456404664, 10.08.2019 07:35:13.742), (ACTION_AUDIO_MODE_CHANGE, MODE_NORMAL, 24956631685922, 10.08.2019 09:24:24.917), (ACTION_AUDIO_MODE_CHANGE, MODE_NORMAL, 25245887675461, 10.08.2019 09:29:14.173), (ACTION_AUDIO_MODE_CHANGE, MODE_NORMAL, 29458777693701, 10.08.2019 10:39:27.063), (ACTION_AUDIO_MODE_CHANGE, MODE_NORMAL, 29503634104631, 10.08.2019 10:40:11.920), (ACTION_AUDIO_MODE_CHANGE, MODE_NORMAL, 30065691373816, 10.08.2019 10:49:33.977), (ACTION_AUDIO_MODE_CHANGE, MODE_NORMAL, 31320737738005, 10.08.2019 11:10:29.023), (ACTION_AUDIO_MODE_CHANGE, MODE_NORMAL, 37503887811369, 10.08.2019 12:53:30.809), (ACTION_AUDIO_MODE_CHANGE, MODE_NORMAL, 45093313049867, 10.08.2019 14:59:59.524), (ACTION_AUDIO_MODE_CHANGE, MODE_NORMAL, 57347348532648, 10.08.2019 18:24:15.273), (ACTION_AUDIO_MODE_CHANGE, MODE_NORMAL, 57419876669616, 10.08.2019 18:25:27.801), (ACTION_AUDIO_MODE_CHANGE, MODE_NORMAL, 112683043218557, 11.08.2019 09:46:30.626), (ACTION_AUDIO_MODE_CHANGE, MODE_NORMAL, 141437271130522, 11.08.2019 17:45:45.345), (ACTION_AUDIO_MODE_CHANGE, MODE_NORMAL, 141597116295081, 11.08.2019 17:48:25.302), (ACTION_AUDIO_MODE_CHANGE, MODE_NORMAL, 141749753190370, 11.08.2019 17:50:57.939), (ACTION_AUDIO_MODE_CHANGE, MODE_NORMAL, 142218830248225, 11.08.2019 17:58:47.016), (ACTION_AUDIO_MODE_CHANGE, MODE_NORMAL, 142919017432082, 11.08.2019 18:10:27.204), (ACTION_AUDIO_MODE_CHANGE, MODE_NORMAL, 143008127709160, 11.08.2019 18:11:54.855), (ACTION_AUDIO_MODE_CHANGE, MODE_NORMAL, 145290421575820, 11.08.2019 18:49:56.493), (ACTION_AUDIO_MODE_CHANGE, MODE_NORMAL, 145732520285648, 11.08.2019 18:57:18.591), (ACTION_AUDIO_MODE_CHANGE, MODE_NORMAL, 146251262790399, 11.08.2019 19:05:57.334), (ACTION_AUDIO_MODE_CHANGE, MODE_NORMAL, 207909293545111, 12.08.2019 12:13:46.381), (ACTION_AUDIO_MODE_CHANGE, MODE_NORMAL, 208082353576902, 12.08.2019 12:16:39.441), (ACTION_AUDIO_MODE_CHANGE, MODE_NORMAL, 209227970555022, 12.08.2019 12:35:45.058), (ACTION_AUDIO_MODE_CHANGE, MODE_NORMAL, 210627366811268, 12.08.2019 12:59:04.454), (ACTION_AUDIO_MODE_CHANGE, MODE_NORMAL, 212442087959186, 12.08.2019 13:29:20.063), (ACTION_AUDIO_MODE_CHANGE, MODE_NORMAL, 220451405351868, 12.08.2019 15:42:52.746), (ACTION_AUDIO_MODE_CHANGE, MODE_NORMAL, 290510060018399, 13.08.2019 11:10:35.339), (ACTION_AUDIO_MODE_CHANGE, MODE_NORMAL, 291290392512721, 13.08.2019 11:23:35.672), (ACTION_AUDIO_MODE_CHANGE, MODE_NORMAL, 305041607525620, 13.08.2019 15:12:49.519), (ACTION_AUDIO_MODE_CHANGE, MODE_NORMAL, 308761305550158, 13.08.2019 16:14:49.070), (ACTION_AUDIO_MODE_CHANGE, MODE_NORMAL, 330970340252738, 13.08.2019 22:24:58.264), (ACTION_AUDIO_MODE_CHANGE, MODE_NORMAL, 331705825342209, 13.08.2019 22:37:13.749), (ACTION_AUDIO_MODE_CHANGE, MODE_NORMAL, 453837047856938, 09.08.2019 00:19:03.490), (ACTION_AUDIO_MODE_CHANGE, MODE_NORMAL, 482078639983386, 09.08.2019 08:09:47.788), (ACTION_AUDIO_MODE_CHANGE, MODE_NORMAL, 483744775681150, 09.08.2019 08:37:33.193), (ACTION_AUDIO_MODE_CHANGE, MODE_NORMAL, 483982435927468, 09.08.2019 08:41:30.853), (ACTION_AUDIO_MODE_CHANGE, MODE_NORMAL, 484362815034702, 09.08.2019 08:47:51.232), (ACTION_AUDIO_MODE_CHANGE, MODE_NORMAL, 484635927444035, 09.08.2019 08:52:24.345), (ACTION_AUDIO_MODE_CHANGE, MODE_NORMAL, 485957129656471, 09.08.2019 09:14:26.340), (ACTION_AUDIO_MODE_CHANGE, MODE_NORMAL, 498106419565303, 09.08.2019 12:36:56.055), (ACTION_AUDIO_MODE_CHANGE, MODE_NORMAL, 499130911238132, 09.08.2019 12:54:00.547), (ACTION_BATTERY_CHANGE, 100, 18405404315602, 10.08.2019 07:35:13.690), (ACTION_BATTERY_CHANGE, 100, 24956623172901, 10.08.2019 09:24:24.909), (ACTION_BATTERY_CHANGE, 100, 25245878811398, 10.08.2019 09:29:14.165), (ACTION_BATTERY_CHANGE, 100, 482078619003178, 09.08.2019 08:09:47.767), (ACTION_BATTERY_CHANGE, 16, 331922472131759, 13.08.2019 22:40:50.396), (ACTION_BATTERY_CHANGE, 17, 331738569391162, 13.08.2019 22:37:46.494), (ACTION_BATTERY_CHANGE, 18, 331705816243771, 13.08.2019 22:37:13.740), (ACTION_BATTERY_CHANGE, 20, 330970324222529, 13.08.2019 22:24:58.248), (ACTION_BATTERY_CHANGE, 28, 220541892980500, 12.08.2019 15:44:23.234), (ACTION_BATTERY_CHANGE, 29, 220451402121139, 12.08.2019 15:42:52.743), (ACTION_BATTERY_CHANGE, 29, 220879690707011, 12.08.2019 15:50:01.032), (ACTION_BATTERY_CHANGE, 30, 220971657776789, 12.08.2019 15:51:32.999), (ACTION_BATTERY_CHANGE, 31, 221296197607468, 12.08.2019 15:56:57.539), (ACTION_BATTERY_CHANGE, 36, 212442076748769, 12.08.2019 13:29:20.052), (ACTION_BATTERY_CHANGE, 37, 211616121661638, 12.08.2019 13:15:33.209), (ACTION_BATTERY_CHANGE, 38, 211462866226245, 12.08.2019 13:12:59.954), (ACTION_BATTERY_CHANGE, 39, 211309286835643, 12.08.2019 13:10:26.375), (ACTION_BATTERY_CHANGE, 40, 211165587996603, 12.08.2019 13:08:02.676), (ACTION_BATTERY_CHANGE, 41, 211012402050272, 12.08.2019 13:05:29.490), (ACTION_BATTERY_CHANGE, 42, 210848171787276, 12.08.2019 13:02:45.260), (ACTION_BATTERY_CHANGE, 43, 210704743350840, 12.08.2019 13:00:21.831), (ACTION_BATTERY_CHANGE, 44, 210627358884706, 12.08.2019 12:59:04.447), (ACTION_BATTERY_CHANGE, 45, 309226272449566, 13.08.2019 16:22:34.037), (ACTION_BATTERY_CHANGE, 46, 57395872510766, 10.08.2019 18:25:03.797), (ACTION_BATTERY_CHANGE, 46, 57419863775345, 10.08.2019 18:25:27.788), (ACTION_BATTERY_CHANGE, 46, 209329842505007, 12.08.2019 12:37:26.931), (ACTION_BATTERY_CHANGE, 46, 309103731390731, 13.08.2019 16:20:31.496), (ACTION_BATTERY_CHANGE, 47, 57347330581086, 10.08.2019 18:24:15.255), (ACTION_BATTERY_CHANGE, 47, 209227961385231, 12.08.2019 12:35:45.049), (ACTION_BATTERY_CHANGE, 47, 308980852293875, 13.08.2019 16:18:28.617), (ACTION_BATTERY_CHANGE, 48, 308878052997015, 13.08.2019 16:16:45.817), (ACTION_BATTERY_CHANGE, 49, 308796185584528, 13.08.2019 16:15:23.950), (ACTION_BATTERY_CHANGE, 50, 208255233412813, 12.08.2019 12:19:32.321), (ACTION_BATTERY_CHANGE, 50, 308761291072033, 13.08.2019 16:14:49.055), (ACTION_BATTERY_CHANGE, 51, 208082343482631, 12.08.2019 12:16:39.431), (ACTION_BATTERY_CHANGE, 51, 453837043091834, 09.08.2019 00:19:03.485), (ACTION_BATTERY_CHANGE, 52, 207932232199795, 12.08.2019 12:14:09.320), (ACTION_BATTERY_CHANGE, 52, 453936883215777, 09.08.2019 00:20:43.325), (ACTION_BATTERY_CHANGE, 53, 207909282594069, 12.08.2019 12:13:46.370), (ACTION_BATTERY_CHANGE, 57, 305123042981858, 13.08.2019 15:14:10.954), (ACTION_BATTERY_CHANGE, 58, 305041595678224, 13.08.2019 15:12:49.507), (ACTION_BATTERY_CHANGE, 60, 47327817905069, 10.08.2019 15:37:12.981), (ACTION_BATTERY_CHANGE, 61, 45181955267562, 10.08.2019 15:01:28.167), (ACTION_BATTERY_CHANGE, 62, 45093301332680, 10.08.2019 14:59:59.513), (ACTION_BATTERY_CHANGE, 64, 146017802333000, 11.08.2019 19:02:03.873), (ACTION_BATTERY_CHANGE, 64, 146251253262795, 11.08.2019 19:05:57.324), (ACTION_BATTERY_CHANGE, 65, 145843910161152, 11.08.2019 18:59:09.981), (ACTION_BATTERY_CHANGE, 66, 145690233461696, 11.08.2019 18:56:36.305), (ACTION_BATTERY_CHANGE, 66, 145732515879398, 11.08.2019 18:57:18.587), (ACTION_BATTERY_CHANGE, 67, 145546623709635, 11.08.2019 18:54:12.695), (ACTION_BATTERY_CHANGE, 68, 145372581378932, 11.08.2019 18:51:18.652), (ACTION_BATTERY_CHANGE, 68, 499941979256423, 09.08.2019 13:07:32.001), (ACTION_BATTERY_CHANGE, 69, 145290413217486, 11.08.2019 18:49:56.484), (ACTION_BATTERY_CHANGE, 69, 499811743648631, 09.08.2019 13:05:21.766), (ACTION_BATTERY_CHANGE, 70, 499130891904799, 09.08.2019 12:54:00.528), (ACTION_BATTERY_CHANGE, 71, 142919009023749, 11.08.2019 18:10:27.195), (ACTION_BATTERY_CHANGE, 71, 143008122760202, 11.08.2019 18:11:54.851), (ACTION_BATTERY_CHANGE, 72, 37503876858764, 10.08.2019 12:53:30.798), ...]\n",
              "\n",
              "[1779 rows x 0 columns]"
            ]
          },
          "metadata": {},
          "execution_count": 78
        }
      ]
    },
    {
      "cell_type": "code",
      "metadata": {
        "id": "z2NPOTo-Vx4S"
      },
      "source": [
        "# Exclude the 'ACTION_BRIGHTNESS_CHANGE'\n",
        "mask = device_data['event'].isin(['ACTION_BRIGHTNESS_CHANGE'])\n",
        "device_data = device_data[~mask]"
      ],
      "execution_count": 80,
      "outputs": []
    },
    {
      "cell_type": "code",
      "metadata": {
        "colab": {
          "base_uri": "https://localhost:8080/",
          "height": 419
        },
        "id": "51RMomgDW4vE",
        "outputId": "a6c49073-e40c-4b3f-8620-4b1c149ccbdf"
      },
      "source": [
        "device_data"
      ],
      "execution_count": 81,
      "outputs": [
        {
          "output_type": "execute_result",
          "data": {
            "text/html": [
              "<div>\n",
              "<style scoped>\n",
              "    .dataframe tbody tr th:only-of-type {\n",
              "        vertical-align: middle;\n",
              "    }\n",
              "\n",
              "    .dataframe tbody tr th {\n",
              "        vertical-align: top;\n",
              "    }\n",
              "\n",
              "    .dataframe thead th {\n",
              "        text-align: right;\n",
              "    }\n",
              "</style>\n",
              "<table border=\"1\" class=\"dataframe\">\n",
              "  <thead>\n",
              "    <tr style=\"text-align: right;\">\n",
              "      <th></th>\n",
              "      <th>event</th>\n",
              "      <th>val</th>\n",
              "      <th>time</th>\n",
              "      <th>timeDate</th>\n",
              "    </tr>\n",
              "  </thead>\n",
              "  <tbody>\n",
              "    <tr>\n",
              "      <th>0</th>\n",
              "      <td>ACTION_SCREEN_UNLOCKED</td>\n",
              "      <td>None</td>\n",
              "      <td>453837010685063</td>\n",
              "      <td>09.08.2019 00:19:03.453</td>\n",
              "    </tr>\n",
              "    <tr>\n",
              "      <th>1</th>\n",
              "      <td>ACTION_SCREEN_ON</td>\n",
              "      <td>None</td>\n",
              "      <td>453837011098605</td>\n",
              "      <td>09.08.2019 00:19:03.453</td>\n",
              "    </tr>\n",
              "    <tr>\n",
              "      <th>2</th>\n",
              "      <td>ACTION_USER_PRESENT</td>\n",
              "      <td>None</td>\n",
              "      <td>453837010982980</td>\n",
              "      <td>09.08.2019 00:19:03.453</td>\n",
              "    </tr>\n",
              "    <tr>\n",
              "      <th>3</th>\n",
              "      <td>ACTION_BATTERY_CHANGE</td>\n",
              "      <td>51</td>\n",
              "      <td>453837043091834</td>\n",
              "      <td>09.08.2019 00:19:03.485</td>\n",
              "    </tr>\n",
              "    <tr>\n",
              "      <th>4</th>\n",
              "      <td>BATTERY_STATUS_CHARGING</td>\n",
              "      <td>AC</td>\n",
              "      <td>453837043432980</td>\n",
              "      <td>09.08.2019 00:19:03.485</td>\n",
              "    </tr>\n",
              "    <tr>\n",
              "      <th>...</th>\n",
              "      <td>...</td>\n",
              "      <td>...</td>\n",
              "      <td>...</td>\n",
              "      <td>...</td>\n",
              "    </tr>\n",
              "    <tr>\n",
              "      <th>1926</th>\n",
              "      <td>ACTION_AUDIO_MODE_CHANGE</td>\n",
              "      <td>MODE_NORMAL</td>\n",
              "      <td>331705825342209</td>\n",
              "      <td>13.08.2019 22:37:13.749</td>\n",
              "    </tr>\n",
              "    <tr>\n",
              "      <th>1927</th>\n",
              "      <td>ACTION_SCREEN_ORIENTATION_CHANGE</td>\n",
              "      <td>LANDSCAPE</td>\n",
              "      <td>331709490157312</td>\n",
              "      <td>13.08.2019 22:37:17.414</td>\n",
              "    </tr>\n",
              "    <tr>\n",
              "      <th>1928</th>\n",
              "      <td>ACTION_BATTERY_CHANGE</td>\n",
              "      <td>17</td>\n",
              "      <td>331738569391162</td>\n",
              "      <td>13.08.2019 22:37:46.494</td>\n",
              "    </tr>\n",
              "    <tr>\n",
              "      <th>1929</th>\n",
              "      <td>ACTION_BATTERY_CHANGE</td>\n",
              "      <td>16</td>\n",
              "      <td>331922472131759</td>\n",
              "      <td>13.08.2019 22:40:50.396</td>\n",
              "    </tr>\n",
              "    <tr>\n",
              "      <th>1981</th>\n",
              "      <td>ACTION_SCREEN_ORIENTATION_CHANGE</td>\n",
              "      <td>PORTRAIT</td>\n",
              "      <td>332065919229654</td>\n",
              "      <td>13.08.2019 22:43:13.843</td>\n",
              "    </tr>\n",
              "  </tbody>\n",
              "</table>\n",
              "<p>732 rows × 4 columns</p>\n",
              "</div>"
            ],
            "text/plain": [
              "                                 event  ...                 timeDate\n",
              "0               ACTION_SCREEN_UNLOCKED  ...  09.08.2019 00:19:03.453\n",
              "1                     ACTION_SCREEN_ON  ...  09.08.2019 00:19:03.453\n",
              "2                  ACTION_USER_PRESENT  ...  09.08.2019 00:19:03.453\n",
              "3                ACTION_BATTERY_CHANGE  ...  09.08.2019 00:19:03.485\n",
              "4              BATTERY_STATUS_CHARGING  ...  09.08.2019 00:19:03.485\n",
              "...                                ...  ...                      ...\n",
              "1926          ACTION_AUDIO_MODE_CHANGE  ...  13.08.2019 22:37:13.749\n",
              "1927  ACTION_SCREEN_ORIENTATION_CHANGE  ...  13.08.2019 22:37:17.414\n",
              "1928             ACTION_BATTERY_CHANGE  ...  13.08.2019 22:37:46.494\n",
              "1929             ACTION_BATTERY_CHANGE  ...  13.08.2019 22:40:50.396\n",
              "1981  ACTION_SCREEN_ORIENTATION_CHANGE  ...  13.08.2019 22:43:13.843\n",
              "\n",
              "[732 rows x 4 columns]"
            ]
          },
          "metadata": {},
          "execution_count": 81
        }
      ]
    },
    {
      "cell_type": "code",
      "metadata": {
        "colab": {
          "base_uri": "https://localhost:8080/",
          "height": 525
        },
        "id": "kijKSDGEW53R",
        "outputId": "a2cdb05d-4232-4339-f8ba-18193a116578"
      },
      "source": [
        "device_data.groupby('event').event.count().plot(kind = 'bar')"
      ],
      "execution_count": 82,
      "outputs": [
        {
          "output_type": "execute_result",
          "data": {
            "text/plain": [
              "<matplotlib.axes._subplots.AxesSubplot at 0x7f9b62f78390>"
            ]
          },
          "metadata": {},
          "execution_count": 82
        },
        {
          "output_type": "display_data",
          "data": {
            "image/png": "[encoded data removed]",
            "text/plain": [
              "<Figure size 432x288 with 1 Axes>"
            ]
          },
          "metadata": {
            "needs_background": "light"
          }
        }
      ]
    },
    {
      "cell_type": "code",
      "metadata": {
        "id": "PRNAoxYUYTFW"
      },
      "source": [
        ""
      ],
      "execution_count": null,
      "outputs": []
    }
  ]
}