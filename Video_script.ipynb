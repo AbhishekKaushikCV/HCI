{
 "cells": [
  {
   "cell_type": "code",
   "execution_count": 1,
   "id": "0bed878d",
   "metadata": {},
   "outputs": [],
   "source": [
    "import os\n",
    "import json\n",
    "import glob\n",
    "import os.path\n",
    "from pathlib import Path\n",
    "import subprocess"
   ]
  },
  {
   "cell_type": "code",
   "execution_count": 2,
   "id": "6b198dd7",
   "metadata": {},
   "outputs": [],
   "source": [
    "account_path = '/home/ak/fd249093-60d2-4d4f-99d0-3e98954f7711/fd249093-60d2-4d4f-99d0-3e98954f7711'"
   ]
  },
  {
   "cell_type": "code",
   "execution_count": 5,
   "id": "6db1038f",
   "metadata": {},
   "outputs": [],
   "source": [
    "# Created a list of all directories in account path\n",
    "recording_paths = [] # Contains all the paths of recording\n",
    "for recording in os.listdir(account_path):\n",
    "    recording_path = os.path.join (account_path, str(recording))\n",
    "    recording_paths.append(recording_path)\n",
    "    #print(recording_path)\n",
    "recording_paths = sorted(recording_paths)\n",
    "#print(recording_paths)"
   ]
  },
  {
   "cell_type": "code",
   "execution_count": null,
   "id": "12b1d2b8",
   "metadata": {},
   "outputs": [
    {
     "name": "stdout",
     "output_type": "stream",
     "text": [
      "/home/ak/fd249093-60d2-4d4f-99d0-3e98954f7711/fd249093-60d2-4d4f-99d0-3e98954f7711/Recording 001/Session 0000/r_video.mp4\n"
     ]
    }
   ],
   "source": [
    "    # count the number of sessions\n",
    "for recording_path in recording_paths:\n",
    "        #print(recording_path)\n",
    "        num_session = 0\n",
    "        for file in os.listdir(recording_path):\n",
    "            if str(file)[:7] == \"Session\":\n",
    "                num_session += 1\n",
    "                #print(num_session)\n",
    "        for session in range(num_session):\n",
    "            session_path = os.path.join(recording_path, \"Session \"+str(session).zfill(4))\n",
    "            #print(session_path)\n",
    "            video_path = os.path.join(session_path, 'video.mp4')\n",
    "            #print(video_path)\n",
    "            \n",
    "            # For rotation\n",
    "            input_dir = video_path\n",
    "            v_out = os.path.join(session_path, 'r_video.mp4')\n",
    "            print(v_out)\n",
    "            \n",
    "            subprocess.run(['ffmpeg', '-i',input_dir,  '-metadata:s:v:0', 'rotate=90', '-y',v_out ])\n",
    "\n",
    "            # For gaze\n",
    "            video_path = v_out\n",
    "            output_dir = session_path\n",
    "            path_to_execu = \"/home/ak/OpenFace/build//bin/FeatureExtraction\"\n",
    "\n",
    "\n",
    "            subprocess.run([path_to_execu,'-f', video_path, '-out_dir', output_dir, \"-gaze\"])\n",
    "            \n",
    "            "
   ]
  },
  {
   "cell_type": "code",
   "execution_count": null,
   "id": "8c3a0953",
   "metadata": {},
   "outputs": [],
   "source": []
  },
  {
   "cell_type": "code",
   "execution_count": 65,
   "id": "57e05cf4",
   "metadata": {},
   "outputs": [],
   "source": [
    "# Start of the processing\n",
    "\n",
    "ac_path = '/home/ak/Desktop/7711'\n",
    "# Created a list of all directories in account path\n",
    "mini_recording_paths = [] # Contains all the paths of recording\n",
    "for recording in os.listdir(ac_path):\n",
    "    recording_path = os.path.join (ac_path, str(recording))\n",
    "    mini_recording_paths.append(recording_path)\n",
    "    #print(recording_path)"
   ]
  },
  {
   "cell_type": "code",
   "execution_count": 66,
   "id": "6aa457ba",
   "metadata": {
    "scrolled": true
   },
   "outputs": [
    {
     "data": {
      "text/plain": [
       "['/home/ak/Desktop/7711/Recording 023',\n",
       " '/home/ak/Desktop/7711/Recording 024',\n",
       " '/home/ak/Desktop/7711/Recording 025']"
      ]
     },
     "execution_count": 66,
     "metadata": {},
     "output_type": "execute_result"
    }
   ],
   "source": [
    "# Sort the list of paths\n",
    "s_mini_recording_paths = sorted(mini_recording_paths)\n",
    "s_mini_recording_paths"
   ]
  },
  {
   "cell_type": "code",
   "execution_count": 67,
   "id": "8b614e87",
   "metadata": {
    "scrolled": true
   },
   "outputs": [
    {
     "name": "stdout",
     "output_type": "stream",
     "text": [
      "/home/ak/Desktop/7711/Recording 023/Session 0000/r_video.mp4\n",
      "/home/ak/Desktop/7711/Recording 024/Session 0000/r_video.mp4\n",
      "/home/ak/Desktop/7711/Recording 025/Session 0000/r_video.mp4\n",
      "/home/ak/Desktop/7711/Recording 025/Session 0001/r_video.mp4\n"
     ]
    }
   ],
   "source": [
    "    # count the number of sessions\n",
    "for recording_path in s_mini_recording_paths:\n",
    "        #print(recording_path)\n",
    "        num_session = 0\n",
    "        for file in os.listdir(recording_path):\n",
    "            if str(file)[:7] == \"Session\":\n",
    "                num_session += 1\n",
    "                #print(num_session)\n",
    "        for session in range(num_session):\n",
    "            session_path = os.path.join(recording_path, \"Session \"+str(session).zfill(4))\n",
    "            #print(session_path)\n",
    "            video_path = os.path.join(session_path, 'video.mp4')\n",
    "            #print(video_path)\n",
    "            \n",
    "            # For rotation\n",
    "            input_dir = video_path\n",
    "            v_out = os.path.join(session_path, 'r_video.mp4')\n",
    "            print(v_out)\n",
    "            \n",
    "            subprocess.run(['ffmpeg', '-i',input_dir,  '-metadata:s:v:0', 'rotate=90', '-y',v_out ])\n",
    "\n",
    "            # For gaze\n",
    "            video_path = v_out\n",
    "            output_dir = session_path\n",
    "            path_to_execu = \"/home/ak/OpenFace/build//bin/FeatureExtraction\"\n",
    "\n",
    "\n",
    "            subprocess.run([path_to_execu,'-f', video_path, '-out_dir', output_dir, \"-gaze\", \"-tracked\"])\n",
    "            \n",
    "            "
   ]
  },
  {
   "cell_type": "code",
   "execution_count": 60,
   "id": "2339888b",
   "metadata": {},
   "outputs": [
    {
     "data": {
      "text/plain": [
       "CompletedProcess(args=['ffmpeg', '-i', '/home/ak/Desktop/7711/Recording 018/Session 0000/video.mp4', '-metadata:s:v:0', 'rotate=90', '-y', '/home/ak/Desktop/7711/Recording 018/Session 0000/r_video.mp4'], returncode=0)"
      ]
     },
     "execution_count": 60,
     "metadata": {},
     "output_type": "execute_result"
    }
   ],
   "source": [
    "# Rotate a single video\n",
    "# we have to change the name of output video to rotate it \n",
    "# We must save the rotated video in the same place \n",
    "\n",
    "#How to change the name of video recursively\n",
    "\n",
    "input_dir= '/home/ak/Desktop/7711/Recording 018/Session 0000/video.mp4'\n",
    "output_dir= '/home/ak/Desktop/7711/Recording 018/Session 0000/r_video.mp4'\n",
    "\n",
    "subprocess.run(['ffmpeg', '-i',input_dir,  '-metadata:s:v:0', 'rotate=90', '-y',output_dir ])\n",
    "\n",
    "\n"
   ]
  },
  {
   "cell_type": "code",
   "execution_count": 61,
   "id": "1b86cf26",
   "metadata": {},
   "outputs": [
    {
     "data": {
      "text/plain": [
       "CompletedProcess(args=['/home/ak/OpenFace/build//bin/FeatureExtraction', '-f', '/home/ak/Desktop/7711/Recording 018/Session 0000/r_video.mp4', '-out_dir', '/home/ak/Desktop/7711/Recording 018/Session 0000', '-gaze', '-tracked'], returncode=0)"
      ]
     },
     "execution_count": 61,
     "metadata": {},
     "output_type": "execute_result"
    }
   ],
   "source": [
    "# Generate the gaze data\n",
    "# Save the processed video in the same place\n",
    "\n",
    "\n",
    "path_to_execu = \"/home/ak/OpenFace/build//bin/FeatureExtraction\"\n",
    "video_path = '/home/ak/Desktop/7711/Recording 018/Session 0000/r_video.mp4'\n",
    "output_dir = '/home/ak/Desktop/7711/Recording 018/Session 0000'\n",
    "\n",
    "\n",
    "subprocess.run([path_to_execu,'-f', video_path, '-out_dir', output_dir, \"-gaze\", \"-tracked\"])"
   ]
  },
  {
   "cell_type": "code",
   "execution_count": null,
   "id": "2ab102f5",
   "metadata": {},
   "outputs": [],
   "source": []
  }
 ],
 "metadata": {
  "kernelspec": {
   "display_name": "Python 3",
   "language": "python",
   "name": "python3"
  },
  "language_info": {
   "codemirror_mode": {
    "name": "ipython",
    "version": 3
   },
   "file_extension": ".py",
   "mimetype": "text/x-python",
   "name": "python",
   "nbconvert_exporter": "python",
   "pygments_lexer": "ipython3",
   "version": "3.8.8"
  }
 },
 "nbformat": 4,
 "nbformat_minor": 5
}
