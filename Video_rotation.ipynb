{
  "nbformat": 4,
  "nbformat_minor": 0,
  "metadata": {
    "colab": {
      "name": "Video_rotation.ipynb",
      "provenance": [],
      "authorship_tag": "ABX9TyNop4ROUsdv1Esdzgaxwc9l",
      "include_colab_link": true
    },
    "kernelspec": {
      "name": "python3",
      "display_name": "Python 3"
    },
    "language_info": {
      "name": "python"
    }
  },
  "cells": [
    {
      "cell_type": "markdown",
      "metadata": {
        "id": "view-in-github",
        "colab_type": "text"
      },
      "source": [
        "<a href=\"https://colab.research.google.com/github/AbhishekKaushikCV/HCI/blob/main/Video_rotation.ipynb\" target=\"_parent\"><img src=\"https://colab.research.google.com/assets/colab-badge.svg\" alt=\"Open In Colab\"/></a>"
      ]
    },
    {
      "cell_type": "markdown",
      "source": [
        "https://stackoverflow.com/questions/53097092/frame-from-video-is-upside-down-after-extracting#comment105269848_55747773\n",
        "\n",
        "\n",
        "https://stackoverflow.com/questions/44380432/opencv-video-looks-good-but-frames-are-rotated-90-degrees\n"
      ],
      "metadata": {
        "id": "SWk9BKfpqKOj"
      }
    },
    {
      "cell_type": "code",
      "source": [
        "pip install ffmpeg-python"
      ],
      "metadata": {
        "colab": {
          "base_uri": "https://localhost:8080/"
        },
        "id": "IHgoYEmyfVMm",
        "outputId": "bcac391b-ab53-43b1-aee6-abd39874f9fb"
      },
      "execution_count": 1,
      "outputs": [
        {
          "output_type": "stream",
          "name": "stdout",
          "text": [
            "Collecting ffmpeg-python\n",
            "  Downloading ffmpeg_python-0.2.0-py3-none-any.whl (25 kB)\n",
            "Requirement already satisfied: future in /usr/local/lib/python3.7/dist-packages (from ffmpeg-python) (0.16.0)\n",
            "Installing collected packages: ffmpeg-python\n",
            "Successfully installed ffmpeg-python-0.2.0\n"
          ]
        }
      ]
    },
    {
      "cell_type": "code",
      "source": [
        "import os"
      ],
      "metadata": {
        "id": "eOf9QFi6jS-M"
      },
      "execution_count": null,
      "outputs": []
    },
    {
      "cell_type": "code",
      "source": [
        "import ffmpeg   \n",
        "import cv2"
      ],
      "metadata": {
        "id": "3L84wRz_fBLc"
      },
      "execution_count": 2,
      "outputs": []
    },
    {
      "cell_type": "code",
      "source": [
        "ffmpeg.probe"
      ],
      "metadata": {
        "colab": {
          "base_uri": "https://localhost:8080/"
        },
        "id": "8aKTH1S0k801",
        "outputId": "87ffbfa2-1e4f-4607-d156-7d26ec2faa8d"
      },
      "execution_count": 3,
      "outputs": [
        {
          "output_type": "execute_result",
          "data": {
            "text/plain": [
              "<function ffmpeg._probe.probe>"
            ]
          },
          "metadata": {},
          "execution_count": 3
        }
      ]
    },
    {
      "cell_type": "code",
      "source": [
        "from google.colab.patches import cv2_imshow"
      ],
      "metadata": {
        "id": "3ygbERZaujSK"
      },
      "execution_count": 17,
      "outputs": []
    },
    {
      "cell_type": "code",
      "source": [
        "video_path = '/content/video.mp4'"
      ],
      "metadata": {
        "id": "96lrxOp7sHTQ"
      },
      "execution_count": 10,
      "outputs": []
    },
    {
      "cell_type": "code",
      "execution_count": 12,
      "metadata": {
        "id": "fzi2ObltegoE"
      },
      "outputs": [],
      "source": [
        " def check_rotation(path_video_file):\n",
        "     # this returns meta-data of the video file in form of a dictionary\n",
        "     meta_dict = ffmpeg.probe(path_video_file)\n",
        "\n",
        "     # from the dictionary, meta_dict['streams'][0]['tags']['rotate'] is the key\n",
        "     # we are looking for\n",
        "     rotateCode = None\n",
        "     if int(meta_dict['streams'][0]['tags']['rotate']) == 90:\n",
        "         rotateCode = cv2.ROTATE_90_CLOCKWISE\n",
        "     elif int(meta_dict['streams'][0]['tags']['rotate']) == 180:\n",
        "         rotateCode = cv2.ROTATE_180\n",
        "     elif int(meta_dict['streams'][0]['tags']['rotate']) == 270:\n",
        "         rotateCode = cv2.ROTATE_90_COUNTERCLOCKWISE\n",
        "\n",
        "     return rotateCode"
      ]
    },
    {
      "cell_type": "code",
      "source": [
        "meta_dict= ffmpeg.probe(video_path)\n",
        "meta_dict"
      ],
      "metadata": {
        "id": "DB5uQaEErg33"
      },
      "execution_count": null,
      "outputs": []
    },
    {
      "cell_type": "code",
      "source": [
        " def correct_rotation(frame, rotateCode):  \n",
        "     return cv2.rotate(frame, rotateCode) "
      ],
      "metadata": {
        "id": "IZc0VTSAgD8v"
      },
      "execution_count": 13,
      "outputs": []
    },
    {
      "cell_type": "code",
      "source": [
        " # open a pointer to the video file stream\n",
        " vs = cv2.VideoCapture(video_path)\n",
        "\n",
        " # check if video requires rotation\n",
        " rotateCode = check_rotation(video_path)\n",
        "\n",
        " # loop over frames from the video file stream\n",
        " while True:\n",
        "     # grab the frame from the file\n",
        "     grabbed, frame = vs.read()\n",
        "\n",
        "     # if frame not grabbed -> end of the video\n",
        "     if not grabbed:\n",
        "         break\n",
        "\n",
        "     # check if the frame needs to be rotated\n",
        "     if rotateCode is not None:\n",
        "         frame = correct_rotation(frame, rotateCode)\n",
        "         cv2_imshow(frame) # Display the resulting frame\n",
        "         if cv2.waitKey(25) & 0xFF == ord('q'):\n",
        "           break\n",
        "\n",
        "     # now logic can start from here"
      ],
      "metadata": {
        "id": "3fzmdJdLgHIr"
      },
      "execution_count": null,
      "outputs": []
    },
    {
      "cell_type": "markdown",
      "source": [
        "https://learnopencv.com/read-write-and-display-a-video-using-opencv-cpp-python/\n"
      ],
      "metadata": {
        "id": "08l-N7tIvyda"
      }
    },
    {
      "cell_type": "code",
      "source": [
        "frame"
      ],
      "metadata": {
        "id": "INfbEqCvs3t7"
      },
      "execution_count": 15,
      "outputs": []
    }
  ]
}