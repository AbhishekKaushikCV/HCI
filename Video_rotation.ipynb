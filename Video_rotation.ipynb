{
  "nbformat": 4,
  "nbformat_minor": 0,
  "metadata": {
    "colab": {
      "name": "Video_rotation.ipynb",
      "provenance": [],
      "authorship_tag": "ABX9TyPuTXVjgFKm6onp1Frcguef",
      "include_colab_link": true
    },
    "kernelspec": {
      "name": "python3",
      "display_name": "Python 3"
    },
    "language_info": {
      "name": "python"
    }
  },
  "cells": [
    {
      "cell_type": "markdown",
      "metadata": {
        "id": "view-in-github",
        "colab_type": "text"
      },
      "source": [
        "<a href=\"https://colab.research.google.com/github/AbhishekKaushikCV/HCI/blob/main/Video_rotation.ipynb\" target=\"_parent\"><img src=\"https://colab.research.google.com/assets/colab-badge.svg\" alt=\"Open In Colab\"/></a>"
      ]
    },
    {
      "cell_type": "code",
      "source": [
        "pip install ffmpeg-python"
      ],
      "metadata": {
        "colab": {
          "base_uri": "https://localhost:8080/"
        },
        "id": "IHgoYEmyfVMm",
        "outputId": "0b2031cb-be02-43f0-8bfe-75de9be3ba96"
      },
      "execution_count": 1,
      "outputs": [
        {
          "output_type": "stream",
          "name": "stdout",
          "text": [
            "Collecting ffmpeg-python\n",
            "  Downloading ffmpeg_python-0.2.0-py3-none-any.whl (25 kB)\n",
            "Requirement already satisfied: future in /usr/local/lib/python3.7/dist-packages (from ffmpeg-python) (0.16.0)\n",
            "Installing collected packages: ffmpeg-python\n",
            "Successfully installed ffmpeg-python-0.2.0\n"
          ]
        }
      ]
    },
    {
      "cell_type": "code",
      "source": [
        "import os\n",
        "import ffmpeg   \n",
        "import cv2\n",
        "from google.colab.patches import cv2_imshow"
      ],
      "metadata": {
        "id": "3L84wRz_fBLc"
      },
      "execution_count": 38,
      "outputs": []
    },
    {
      "cell_type": "code",
      "source": [
        "ffmpeg.probe"
      ],
      "metadata": {
        "colab": {
          "base_uri": "https://localhost:8080/"
        },
        "id": "8aKTH1S0k801",
        "outputId": "910c8c63-0ce7-4d96-aa48-cbfb90cab247"
      },
      "execution_count": 39,
      "outputs": [
        {
          "output_type": "execute_result",
          "data": {
            "text/plain": [
              "<function ffmpeg._probe.probe>"
            ]
          },
          "metadata": {},
          "execution_count": 39
        }
      ]
    },
    {
      "cell_type": "code",
      "source": [
        "video_path = '/content/video.mp4'"
      ],
      "metadata": {
        "id": "96lrxOp7sHTQ"
      },
      "execution_count": 40,
      "outputs": []
    },
    {
      "cell_type": "code",
      "source": [
        "ffmpeg.probe(video_path)"
      ],
      "metadata": {
        "id": "rFM-DTgK1MkP",
        "outputId": "7812f69b-7f8c-446a-de90-29430ffeec5a",
        "colab": {
          "base_uri": "https://localhost:8080/"
        }
      },
      "execution_count": 41,
      "outputs": [
        {
          "output_type": "execute_result",
          "data": {
            "text/plain": [
              "{'format': {'bit_rate': '5045139',\n",
              "  'duration': '56.551000',\n",
              "  'filename': '/content/video.mp4',\n",
              "  'format_long_name': 'QuickTime / MOV',\n",
              "  'format_name': 'mov,mp4,m4a,3gp,3g2,mj2',\n",
              "  'nb_programs': 0,\n",
              "  'nb_streams': 1,\n",
              "  'probe_score': 100,\n",
              "  'size': '35663460',\n",
              "  'start_time': '0.000000',\n",
              "  'tags': {'com.android.version': '7.1.1',\n",
              "   'compatible_brands': 'isommp42',\n",
              "   'creation_time': '2019-08-14T17:07:38.000000Z',\n",
              "   'major_brand': 'mp42',\n",
              "   'minor_version': '0'}},\n",
              " 'streams': [{'avg_frame_rate': '2683125/106033',\n",
              "   'bit_rate': '4987829',\n",
              "   'bits_per_raw_sample': '8',\n",
              "   'chroma_location': 'left',\n",
              "   'codec_long_name': 'H.264 / AVC / MPEG-4 AVC / MPEG-4 part 10',\n",
              "   'codec_name': 'h264',\n",
              "   'codec_tag': '0x31637661',\n",
              "   'codec_tag_string': 'avc1',\n",
              "   'codec_time_base': '106033/5366250',\n",
              "   'codec_type': 'video',\n",
              "   'coded_height': 720,\n",
              "   'coded_width': 1280,\n",
              "   'color_primaries': 'bt470bg',\n",
              "   'color_range': 'tv',\n",
              "   'color_space': 'smpte170m',\n",
              "   'color_transfer': 'smpte170m',\n",
              "   'display_aspect_ratio': '16:9',\n",
              "   'disposition': {'attached_pic': 0,\n",
              "    'clean_effects': 0,\n",
              "    'comment': 0,\n",
              "    'default': 1,\n",
              "    'dub': 0,\n",
              "    'forced': 0,\n",
              "    'hearing_impaired': 0,\n",
              "    'karaoke': 0,\n",
              "    'lyrics': 0,\n",
              "    'original': 0,\n",
              "    'timed_thumbnails': 0,\n",
              "    'visual_impaired': 0},\n",
              "   'duration': '56.550933',\n",
              "   'duration_ts': 5089584,\n",
              "   'has_b_frames': 0,\n",
              "   'height': 720,\n",
              "   'index': 0,\n",
              "   'is_avc': 'true',\n",
              "   'level': 31,\n",
              "   'nal_length_size': '4',\n",
              "   'nb_frames': '1431',\n",
              "   'pix_fmt': 'yuv420p',\n",
              "   'profile': 'Baseline',\n",
              "   'r_frame_rate': '60000/1001',\n",
              "   'refs': 1,\n",
              "   'sample_aspect_ratio': '1:1',\n",
              "   'side_data_list': [{'displaymatrix': '\\n00000000:            0      -65536           0\\n00000001:        65536           0           0\\n00000002:            0           0  1073741824\\n',\n",
              "     'rotation': 90,\n",
              "     'side_data_type': 'Display Matrix'}],\n",
              "   'start_pts': 0,\n",
              "   'start_time': '0.000000',\n",
              "   'tags': {'creation_time': '2019-08-14T17:07:38.000000Z',\n",
              "    'handler_name': 'VideoHandle',\n",
              "    'language': 'eng',\n",
              "    'rotate': '270'},\n",
              "   'time_base': '1/90000',\n",
              "   'width': 1280}]}"
            ]
          },
          "metadata": {},
          "execution_count": 41
        }
      ]
    },
    {
      "cell_type": "code",
      "execution_count": 42,
      "metadata": {
        "id": "fzi2ObltegoE"
      },
      "outputs": [],
      "source": [
        " def check_rotation(path_video_file):\n",
        "     # this returns meta-data of the video file in form of a dictionary\n",
        "     meta_dict = ffmpeg.probe(path_video_file)\n",
        "\n",
        "     # from the dictionary, meta_dict['streams'][0]['tags']['rotate'] is the key\n",
        "     # we are looking for\n",
        "     rotateCode = None\n",
        "     if int(meta_dict['streams'][0]['tags']['rotate']) == 90:\n",
        "         rotateCode = cv2.ROTATE_90_CLOCKWISE\n",
        "     elif int(meta_dict['streams'][0]['tags']['rotate']) == 180:\n",
        "         rotateCode = cv2.ROTATE_180\n",
        "     elif int(meta_dict['streams'][0]['tags']['rotate']) == 270:\n",
        "         rotateCode = cv2.ROTATE_90_COUNTERCLOCKWISE\n",
        "\n",
        "     return rotateCode"
      ]
    },
    {
      "cell_type": "code",
      "source": [
        " def correct_rotation(frame, rotateCode):  \n",
        "     return cv2.rotate(frame, rotateCode) "
      ],
      "metadata": {
        "id": "IZc0VTSAgD8v"
      },
      "execution_count": 43,
      "outputs": []
    },
    {
      "cell_type": "code",
      "source": [
        " # open a pointer to the video file stream\n",
        " vs = cv2.VideoCapture(video_path)\n",
        "\n",
        " # check if video requires rotation\n",
        " rotateCode = check_rotation(video_path)\n",
        "\n",
        " # loop over frames from the video file stream\n",
        " while True:\n",
        "     # grab the frame from the file\n",
        "     grabbed, frame = vs.read()\n",
        "\n",
        "     # if frame not grabbed -> end of the video\n",
        "     if not grabbed:\n",
        "         break\n",
        "\n",
        "     # check if the frame needs to be rotated\n",
        "     if rotateCode is not None:\n",
        "         frame = correct_rotation(frame, rotateCode)\n",
        "         frame"
      ],
      "metadata": {
        "id": "3hgVRuSk7VFe"
      },
      "execution_count": 50,
      "outputs": []
    },
    {
      "cell_type": "code",
      "source": [
        " # open a pointer to the video file stream\n",
        " vs = cv2.VideoCapture(video_path)\n",
        "\n",
        " # check if video requires rotation\n",
        " rotateCode = check_rotation(video_path)\n",
        "\n",
        " # loop over frames from the video file stream\n",
        " while True:\n",
        "     # grab the frame from the file\n",
        "     grabbed, frame = vs.read()\n",
        "\n",
        "     # if frame not grabbed -> end of the video\n",
        "     if not grabbed:\n",
        "         break\n",
        "\n",
        "     # check if the frame needs to be rotated\n",
        "     if rotateCode is not None:\n",
        "\n",
        "         \n",
        "        \n",
        "\n",
        "         #fourcc = cv2.VideoWriter_fourcc(*'mp4v')\n",
        "         #frameSize = (500, 500)\n",
        "\n",
        "         #out = cv2.VideoWriter('output_video.mp4',fourcc, 60, frameSize)\n",
        "         #img = np.ones((500, 500, 3), dtype=np.uint8)*i\n",
        "        frame = correct_rotation(frame, rotateCode)\n",
        "        frame\n",
        "         #out.write(frame)\n",
        "         #out.release()\n",
        "\n",
        "\n",
        "\n",
        "         #cv2_imshow(frame) # Display the resulting frame\n",
        "         #if cv2.waitKey(25) & 0xFF == ord('q'):\n",
        "        break\n",
        "\n",
        "     # now logic can start from here"
      ],
      "metadata": {
        "id": "3fzmdJdLgHIr"
      },
      "execution_count": 48,
      "outputs": []
    },
    {
      "cell_type": "code",
      "source": [
        "print(len(frame))"
      ],
      "metadata": {
        "id": "b1n0UUZ6xdhk",
        "outputId": "2b52e080-73e7-4416-e914-794cd2033368",
        "colab": {
          "base_uri": "https://localhost:8080/"
        }
      },
      "execution_count": 23,
      "outputs": [
        {
          "output_type": "stream",
          "name": "stdout",
          "text": [
            "1280\n"
          ]
        }
      ]
    },
    {
      "cell_type": "markdown",
      "source": [
        "https://learnopencv.com/read-write-and-display-a-video-using-opencv-cpp-python/\n"
      ],
      "metadata": {
        "id": "08l-N7tIvyda"
      }
    },
    {
      "cell_type": "code",
      "source": [
        "frame"
      ],
      "metadata": {
        "id": "INfbEqCvs3t7"
      },
      "execution_count": null,
      "outputs": []
    },
    {
      "cell_type": "code",
      "source": [
        "\n",
        " # choose codec according to format needed\n",
        "fourcc = cv2.VideoWriter_fourcc(*'mp4v')\n",
        "frameSize = (500, 500)\n",
        "\n",
        "out = cv2.VideoWriter('output_video.avi',fourcc, 60, frameSize)\n",
        "\n",
        "for filename in glob.glob('D:/images/*.jpg'):\n",
        "    img = cv2.imread(filename)\n",
        "    out.write(img)\n",
        "\n",
        "out.release()"
      ],
      "metadata": {
        "id": "fDwM-5VJt77X"
      },
      "execution_count": null,
      "outputs": []
    },
    {
      "cell_type": "markdown",
      "source": [
        "### Create video from frames:\n",
        "https://theailearner.com/2018/10/15/creating-video-from-images-using-opencv-python/\n"
      ],
      "metadata": {
        "id": "gvR4d2_Sy1Uz"
      }
    },
    {
      "cell_type": "code",
      "source": [
        ""
      ],
      "metadata": {
        "id": "b0S_Oz6pt3re"
      },
      "execution_count": null,
      "outputs": []
    }
  ]
}